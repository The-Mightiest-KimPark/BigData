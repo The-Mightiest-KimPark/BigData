{
 "cells": [
  {
   "cell_type": "code",
   "execution_count": 1,
   "metadata": {},
   "outputs": [
    {
     "name": "stdout",
     "output_type": "stream",
     "text": [
      "(3000, 17186)\n",
      "title\n",
      "Toy Story                      0\n",
      "Jumanji                        1\n",
      "Grumpier Old Men               2\n",
      "Waiting to Exhale              3\n",
      "Father of the Bride Part II    4\n",
      "dtype: int64\n",
      "4\n"
     ]
    },
    {
     "data": {
      "text/plain": [
       "2997              Toy Story 2\n",
       "1071    Rebel Without a Cause\n",
       "485                    Malice\n",
       "1932                Condorman\n",
       "448         For Love or Money\n",
       "1032            The Sunchaser\n",
       "2157        Indecent Proposal\n",
       "1884           Child's Play 3\n",
       "2635               Radio Days\n",
       "2681               Funny Farm\n",
       "Name: title, dtype: object"
      ]
     },
     "execution_count": 1,
     "metadata": {},
     "output_type": "execute_result"
    }
   ],
   "source": [
    "import pandas as pd\n",
    "from sklearn.feature_extraction.text import TfidfVectorizer\n",
    "from sklearn.metrics.pairwise import linear_kernel\n",
    "\n",
    "data = pd.read_csv('../data/movies_metadata.csv', low_memory=False)\n",
    "data.head(2)\n",
    "\n",
    "data = data.head(3000)\n",
    "\n",
    "data['overview'].isnull().sum()\n",
    "\n",
    "# overview에서 Null 값을 가진 경우에는 Null 값을 제거\n",
    "data['overview'] = data['overview'].fillna('')\n",
    "\n",
    "tfidf = TfidfVectorizer(stop_words='english')\n",
    "# overview에 대해서 tf-idf 수행\n",
    "tfidf_matrix = tfidf.fit_transform(data['overview'])\n",
    "print(tfidf_matrix.shape)\n",
    "# overview 열에 대해서 tf-idf를 수행했습니다. 20,000개의 영화를 표현하기위해 총 47,487개의 단어가 사용되었음을 보여주고 있습니다.\n",
    "# 이제 코사인 유사도를 사용하면 바로 문서의 유사도를 구할 수 있습니다.\n",
    "\n",
    "cosine_sim = linear_kernel(tfidf_matrix, tfidf_matrix)\n",
    "# 코사인 유사도를 구합니다.\n",
    "\n",
    "indices = pd.Series(data.index, index=data['title']).drop_duplicates()\n",
    "print(indices.head())\n",
    "# 영화의 타이틀과 인덱스를 가진 테이블을 만듭니다. 이 중 5개만 출력해보도록 하겠습니다.\n",
    "# 이 테이블의 용도는 영화의 타이틀을 입력하면 인덱스를 리턴하기 위함입니다.\n",
    "\n",
    "idx = indices['Father of the Bride Part II']\n",
    "print(idx)\n",
    "\n",
    "# 이제 선택한 영화에 대해서 코사인 유사도를 이용하여, 가장 overview가 유사한 10개의 영화를 찾아내는 함수를 만듭니다.\n",
    "def get_recommendations(title, cosine_sim=cosine_sim):\n",
    "    # 선택한 영화의 타이틀로부터 해당되는 인덱스를 받아옵니다. 이제 선택한 영화를 가지고 연산할 수 있습니다.\n",
    "    idx = indices[title]\n",
    "\n",
    "    # 모든 영화에 대해서 해당 영화와의 유사도를 구합니다.\n",
    "    sim_scores = list(enumerate(cosine_sim[idx]))\n",
    "\n",
    "    # 유사도에 따라 영화들을 정렬합니다.\n",
    "    sim_scores = sorted(sim_scores, key=lambda x: x[1], reverse=True)\n",
    "\n",
    "    # 가장 유사한 10개의 영화를 받아옵니다.\n",
    "    sim_scores = sim_scores[1:11]\n",
    "\n",
    "    # 가장 유사한 10개의 영화의 인덱스를 받아옵니다.\n",
    "    movie_indices = [i[0] for i in sim_scores]\n",
    "\n",
    "    # 가장 유사한 10개의 영화의 제목을 리턴합니다.\n",
    "    return data['title'].iloc[movie_indices]\n",
    "\n",
    "get_recommendations('Toy Story')"
   ]
  },
  {
   "cell_type": "code",
   "execution_count": 2,
   "metadata": {},
   "outputs": [
    {
     "data": {
      "text/plain": [
       "array([[1.        , 0.01790045, 0.        , ..., 0.43924636, 0.        ,\n",
       "        0.        ],\n",
       "       [0.01790045, 1.        , 0.04594867, ..., 0.        , 0.03100063,\n",
       "        0.        ],\n",
       "       [0.        , 0.04594867, 1.        , ..., 0.        , 0.0335845 ,\n",
       "        0.        ],\n",
       "       ...,\n",
       "       [0.43924636, 0.        , 0.        , ..., 1.        , 0.        ,\n",
       "        0.        ],\n",
       "       [0.        , 0.03100063, 0.0335845 , ..., 0.        , 1.        ,\n",
       "        0.        ],\n",
       "       [0.        , 0.        , 0.        , ..., 0.        , 0.        ,\n",
       "        1.        ]])"
      ]
     },
     "execution_count": 2,
     "metadata": {},
     "output_type": "execute_result"
    }
   ],
   "source": [
    "cosine_sim\n"
   ]
  },
  {
   "cell_type": "code",
   "execution_count": 29,
   "metadata": {},
   "outputs": [
    {
     "name": "stdout",
     "output_type": "stream",
     "text": [
      "(401, 455)\n",
      "(10, 9)\n",
      "food\n",
      "소고기 버섯전골 레시피 맛있게 만드는 법                       0\n",
      "완전맛있는 차돌박이찜! 미소된장마요소스도 함께~                   1\n",
      "가지등심카나페                                      2\n",
      "소고기두부볶음 - 아이들 반찬/이유식 반찬으로도 최고죠~옛생각이 절로...    3\n",
      "담백한 차돌박이부추말이찜 레시피                            4\n",
      "dtype: int64\n"
     ]
    },
    {
     "data": {
      "text/plain": [
       "34                             차돌박이덮밥 간단한요리\n",
       "100    (집에서 즐기는 술안주) 스키야키 / 일본식 전골 - 홈파티 요리\n",
       "65          차돌박이 된장찌개 레시피ㅣ고깃집에서 먹던 바로 그 맛!ㅣ\n",
       "322                               차돌박이 된장찌개\n",
       "112                    (간장양념) 차돌박이 볶음우동 만들기\n",
       "265     밀푀유나베, 소스도 맛있는 밀푀유나베 만드는 법, 손님상 집들이\n",
       "170                    너~~~무 맛있는 간단한 차돌된장찌개\n",
       "79                                   차돌된장찌개\n",
       "70                                쇠고기 달걀 덮밥\n",
       "268                     아이가 좋아하는 두부 소보로 비빔밥\n",
       "Name: food, dtype: object"
      ]
     },
     "execution_count": 29,
     "metadata": {},
     "output_type": "execute_result"
    }
   ],
   "source": [
    "import pandas as pd\n",
    "from sklearn.feature_extraction.text import TfidfVectorizer\n",
    "from sklearn.metrics.pairwise import linear_kernel\n",
    "\n",
    "# data = pd.read_csv('../smart_refrigerator/output/test.csv', low_memory=False)\n",
    "data2 = pd.read_csv('../smart_refrigerator/output/냉장고재료test용.csv', low_memory=False)\n",
    "\n",
    "data['ingredient'] = data['ingredint_name'].fillna('')\n",
    "data2['ingredient'] = data2['ingredient'].fillna('')\n",
    "\n",
    "tfidf = TfidfVectorizer()\n",
    "# overview에 대해서 tf-idf 수행\n",
    "tfidf_matrix = tfidf.fit_transform(data['ingredient'])\n",
    "tfidf_matrix2 = tfidf.fit_transform(data2['ingredient'])\n",
    "\n",
    "print(tfidf_matrix.shape)\n",
    "print(tfidf_matrix2.shape)\n",
    "# overview 열에 대해서 tf-idf를 수행했습니다. 20,000개의 영화를 표현하기위해 총 47,487개의 단어가 사용되었음을 보여주고 있습니다.\n",
    "# 이제 코사인 유사도를 사용하면 바로 문서의 유사도를 구할 수 있습니다.\n",
    "\n",
    "cosine_sim = linear_kernel(tfidf_matrix, tfidf_matrix)\n",
    "# 코사인 유사도를 구합니다.\n",
    "\n",
    "indices = pd.Series(data.index, index=data['food'])\n",
    "print(indices.head())\n",
    "# 영화의 타이틀과 인덱스를 가진 테이블을 만듭니다. 이 중 5개만 출력해보도록 하겠습니다.\n",
    "# 이 테이블의 용도는 영화의 타이틀을 입력하면 인덱스를 리턴하기 위함입니다.\n",
    "\n",
    "\n",
    "# 이제 선택한 영화에 대해서 코사인 유사도를 이용하여, 가장 overview가 유사한 10개의 영화를 찾아내는 함수를 만듭니다.\n",
    "def get_recommendations(food, cosine_sim=cosine_sim):\n",
    "    # 선택한 영화의 타이틀로부터 해당되는 인덱스를 받아옵니다. 이제 선택한 영화를 가지고 연산할 수 있습니다.\n",
    "    idx = indices[food]\n",
    "\n",
    "    # 모든 영화에 대해서 해당 영화와의 유사도를 구합니다.\n",
    "    sim_scores = list(enumerate(cosine_sim[idx]))\n",
    "\n",
    "    # 유사도에 따라 영화들을 정렬합니다.\n",
    "    sim_scores = sorted(sim_scores, key=lambda x: x[1], reverse=True)\n",
    "\n",
    "    # 가장 유사한 10개의 영화를 받아옵니다.\n",
    "    sim_scores = sim_scores[1:11]\n",
    "\n",
    "    # 가장 유사한 10개의 영화의 인덱스를 받아옵니다.\n",
    "    movie_indices = [i[0] for i in sim_scores]\n",
    "\n",
    "    # 가장 유사한 10개의 영화의 제목을 리턴합니다.\n",
    "    return data['food'].iloc[movie_indices]\n",
    "\n",
    "get_recommendations('냉장고재료')"
   ]
  },
  {
   "cell_type": "code",
   "execution_count": null,
   "metadata": {},
   "outputs": [],
   "source": [
    "import pandas as pd\n",
    "from sklearn.feature_extraction.text import TfidfVectorizer\n",
    "from sklearn.metrics.pairwise import linear_kernel\n",
    "\n",
    "# data = pd.read_csv('../smart_refrigerator/output/test.csv', low_memory=False)\n",
    "data2 = pd.read_csv('../smart_refrigerator/output/냉장고재료test용.csv', low_memory=False)\n",
    "\n",
    "data['ingredient'] = data['ingredint_name'].fillna('')\n",
    "data2['ingredient'] = data2['ingredient'].fillna('')\n",
    "\n",
    "tfidf = TfidfVectorizer()\n",
    "# overview에 대해서 tf-idf 수행\n",
    "tfidf_matrix = tfidf.fit_transform(data['ingredient'])\n",
    "tfidf_matrix2 = tfidf.fit_transform(data2['ingredient'])\n",
    "\n",
    "print(tfidf_matrix.shape)\n",
    "print(tfidf_matrix2.shape)\n",
    "# overview 열에 대해서 tf-idf를 수행했습니다. 20,000개의 영화를 표현하기위해 총 47,487개의 단어가 사용되었음을 보여주고 있습니다.\n",
    "# 이제 코사인 유사도를 사용하면 바로 문서의 유사도를 구할 수 있습니다.\n",
    "\n",
    "cosine_sim = linear_kernel(tfidf_matrix, tfidf_matrix)\n",
    "# 코사인 유사도를 구합니다.\n",
    "\n",
    "indices = pd.Series(data.index, index=data['food'])\n",
    "print(indices.head())\n",
    "# 영화의 타이틀과 인덱스를 가진 테이블을 만듭니다. 이 중 5개만 출력해보도록 하겠습니다.\n",
    "# 이 테이블의 용도는 영화의 타이틀을 입력하면 인덱스를 리턴하기 위함입니다.\n",
    "\n",
    "\n",
    "# 이제 선택한 영화에 대해서 코사인 유사도를 이용하여, 가장 overview가 유사한 10개의 영화를 찾아내는 함수를 만듭니다.\n",
    "def get_recommendations(food, cosine_sim=cosine_sim):\n",
    "    # 선택한 영화의 타이틀로부터 해당되는 인덱스를 받아옵니다. 이제 선택한 영화를 가지고 연산할 수 있습니다.\n",
    "    idx = indices[food]\n",
    "\n",
    "    # 모든 영화에 대해서 해당 영화와의 유사도를 구합니다.\n",
    "    sim_scores = list(enumerate(cosine_sim[idx]))\n",
    "\n",
    "    # 유사도에 따라 영화들을 정렬합니다.\n",
    "    sim_scores = sorted(sim_scores, key=lambda x: x[1], reverse=True)\n",
    "\n",
    "    # 가장 유사한 10개의 영화를 받아옵니다.\n",
    "    sim_scores = sim_scores[1:11]\n",
    "\n",
    "    # 가장 유사한 10개의 영화의 인덱스를 받아옵니다.\n",
    "    movie_indices = [i[0] for i in sim_scores]\n",
    "\n",
    "    # 가장 유사한 10개의 영화의 제목을 리턴합니다.\n",
    "    return data['food'].iloc[movie_indices]\n",
    "\n",
    "get_recommendations('냉장고재료')"
   ]
  }
 ],
 "metadata": {
  "kernelspec": {
   "display_name": "pydatavenv",
   "language": "python",
   "name": "pydatavenv"
  },
  "language_info": {
   "codemirror_mode": {
    "name": "ipython",
    "version": 3
   },
   "file_extension": ".py",
   "mimetype": "text/x-python",
   "name": "python",
   "nbconvert_exporter": "python",
   "pygments_lexer": "ipython3",
   "version": "3.7.9"
  }
 },
 "nbformat": 4,
 "nbformat_minor": 4
}
