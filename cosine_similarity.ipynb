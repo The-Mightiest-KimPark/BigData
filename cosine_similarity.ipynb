{
 "cells": [
  {
   "cell_type": "code",
   "execution_count": 28,
   "metadata": {},
   "outputs": [
    {
     "name": "stdout",
     "output_type": "stream",
     "text": [
      "(9858, 2386)\n"
     ]
    }
   ],
   "source": [
    "import pandas as pd\n",
    "from sklearn.feature_extraction.text import TfidfVectorizer\n",
    "from sklearn.metrics.pairwise import linear_kernel\n",
    "\n",
    "data = pd.read_csv('./output/최종레시피1copy.csv')\n",
    "\n",
    "tfidf = TfidfVectorizer()\n",
    "data['ingredient_name'] = data['ingredient_name'].fillna('')\n",
    "tfidf_matrix1 = tfidf.fit_transform(data.ingredient_name.values.astype('U'))\n",
    "# 줄거리에 대해서 tf-idf 수행\n",
    "print(tfidf_matrix1.shape)\n",
    "\n",
    "data2 = ['차돌박이', '양파', '파', '마늘', '소고기', '계란', '달걀', '어묵', '팽이버섯', '두부']\n",
    "data2 = ' '.join(data2)\n",
    "# tfidf_matrix2 = tfidf.fit_transform(data2)\n",
    "# print(tfidf_matrix2.shape)\n",
    "\n"
   ]
  },
  {
   "cell_type": "code",
   "execution_count": 31,
   "metadata": {},
   "outputs": [
    {
     "ename": "AttributeError",
     "evalue": "'CountVectorizer' object has no attribute 'data2'",
     "output_type": "error",
     "traceback": [
      "\u001b[0;31m---------------------------------------------------------------------------\u001b[0m",
      "\u001b[0;31mAttributeError\u001b[0m                            Traceback (most recent call last)",
      "\u001b[0;32m<ipython-input-31-23a0f6707bb9>\u001b[0m in \u001b[0;36m<module>\u001b[0;34m\u001b[0m\n\u001b[1;32m      1\u001b[0m \u001b[0;32mfrom\u001b[0m \u001b[0msklearn\u001b[0m\u001b[0;34m.\u001b[0m\u001b[0mfeature_extraction\u001b[0m\u001b[0;34m.\u001b[0m\u001b[0mtext\u001b[0m \u001b[0;32mimport\u001b[0m \u001b[0mCountVectorizer\u001b[0m\u001b[0;34m\u001b[0m\u001b[0;34m\u001b[0m\u001b[0m\n\u001b[1;32m      2\u001b[0m \u001b[0mvectorizer\u001b[0m \u001b[0;34m=\u001b[0m \u001b[0mCountVectorizer\u001b[0m\u001b[0;34m(\u001b[0m\u001b[0;34m)\u001b[0m\u001b[0;34m\u001b[0m\u001b[0;34m\u001b[0m\u001b[0m\n\u001b[0;32m----> 3\u001b[0;31m \u001b[0mprint\u001b[0m\u001b[0;34m(\u001b[0m\u001b[0mvectorizer\u001b[0m\u001b[0;34m.\u001b[0m\u001b[0mdata2\u001b[0m\u001b[0;34m)\u001b[0m\u001b[0;34m\u001b[0m\u001b[0;34m\u001b[0m\u001b[0m\n\u001b[0m",
      "\u001b[0;31mAttributeError\u001b[0m: 'CountVectorizer' object has no attribute 'data2'"
     ]
    }
   ],
   "source": [
    "from sklearn.feature_extraction.text import CountVectorizer\n",
    "vectorizer = CountVectorizer()\n",
    "print(vectorizer.data2)"
   ]
  },
  {
   "cell_type": "code",
   "execution_count": 21,
   "metadata": {},
   "outputs": [
    {
     "name": "stdout",
     "output_type": "stream",
     "text": [
      "name\n",
      "손쉽게 만드는 소불고기덮밥 레시피(불고기양념)                          0\n",
      "사과를 활용한 요리 / 프랑스 가정식 애플 클라푸티 ( apple Clafouti )    1\n",
      "사과를 활용한 요리 / 사과 겉절이                                2\n",
      "# 당면활용, 당면만두                                       3\n",
      "보들한 무청이 더 맛있는 코다리조림, 무청 코다리조림                      4\n",
      "dtype: int64\n"
     ]
    }
   ],
   "source": [
    "cosine_sim = linear_kernel(tfidf_matrix2, tfidf_matrix)\n",
    "# 코사인 유사도를 구합니다.\n",
    "\n",
    "indices = pd.Series(data.index, index=data['name'])\n",
    "print(indices.head())\n",
    "# 영화의 타이틀과 인덱스를 가진 테이블을 만듭니다. 이 중 5개만 출력해보도록 하겠습니다.\n",
    "# 이 테이블의 용도는 영화의 타이틀을 입력하면 인덱스를 리턴하기 위함입니다.\n",
    "\n",
    "\n",
    "# # 이제 선택한 영화에 대해서 코사인 유사도를 이용하여, 가장 overview가 유사한 10개의 영화를 찾아내는 함수를 만듭니다.\n",
    "# def get_recommendations(food, cosine_sim=cosine_sim):\n",
    "#     # 선택한 영화의 타이틀로부터 해당되는 인덱스를 받아옵니다. 이제 선택한 영화를 가지고 연산할 수 있습니다.\n",
    "#     idx = indices[food]\n",
    "\n",
    "#     # 모든 영화에 대해서 해당 영화와의 유사도를 구합니다.\n",
    "#     sim_scores = list(enumerate(cosine_sim[idx]))\n",
    "\n",
    "#     # 유사도에 따라 영화들을 정렬합니다.\n",
    "#     sim_scores = sorted(sim_scores, key=lambda x: x[1], reverse=True)\n",
    "\n",
    "#     # 가장 유사한 10개의 영화를 받아옵니다.\n",
    "#     sim_scores = sim_scores[1:11]\n",
    "\n",
    "#     # 가장 유사한 10개의 영화의 인덱스를 받아옵니다.\n",
    "#     movie_indices = [i[0] for i in sim_scores]\n",
    "\n",
    "#     # 가장 유사한 10개의 영화의 제목을 리턴합니다.\n",
    "#     return data['food'].iloc[movie_indices]\n",
    "\n",
    "# get_recommendations('가지등심카나페')"
   ]
  },
  {
   "cell_type": "code",
   "execution_count": 11,
   "metadata": {},
   "outputs": [],
   "source": [
    "import wikipedia\n",
    "import numpy as np\n",
    "\n",
    "# q1 = wikipedia.page('Machine Learning')\n",
    "q2 = wikipedia.page('Artifical Intelligence')\n",
    "q3 = wikipedia.page('Soccer')\n",
    "# q4 = wikipedia.page('Tennis')"
   ]
  },
  {
   "cell_type": "code",
   "execution_count": 12,
   "metadata": {},
   "outputs": [],
   "source": [
    "from sklearn.feature_extraction.text import CountVectorizer\n",
    "\n",
    "def cosine_similarity(x, y):\n",
    "    return np.dot(x, y) / (np.sqrt(np.dot(x, x)) * np.sqrt(np.dot(y, y)))\n",
    "\n",
    "cv = CountVectorizer()\n",
    "X = np.array(cv.fit_transform([q2.content, q3.content]).todense())"
   ]
  },
  {
   "cell_type": "code",
   "execution_count": 14,
   "metadata": {},
   "outputs": [
    {
     "name": "stdout",
     "output_type": "stream",
     "text": [
      "0.827675182038872\n"
     ]
    }
   ],
   "source": [
    "print(cosine_similarity(X[0], X[1]))"
   ]
  }
 ],
 "metadata": {
  "kernelspec": {
   "display_name": "pydatavenv",
   "language": "python",
   "name": "pydatavenv"
  },
  "language_info": {
   "codemirror_mode": {
    "name": "ipython",
    "version": 3
   },
   "file_extension": ".py",
   "mimetype": "text/x-python",
   "name": "python",
   "nbconvert_exporter": "python",
   "pygments_lexer": "ipython3",
   "version": "3.7.9"
  }
 },
 "nbformat": 4,
 "nbformat_minor": 4
}
