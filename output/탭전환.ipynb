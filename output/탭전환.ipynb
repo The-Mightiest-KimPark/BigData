{
 "cells": [
  {
   "cell_type": "code",
   "execution_count": 5,
   "metadata": {},
   "outputs": [
    {
     "name": "stdout",
     "output_type": "stream",
     "text": [
      "['CDwindow-EC4381F11FA07B6032A99B0E21CA6EEB']\n"
     ]
    }
   ],
   "source": [
    "from selenium import webdriver\n",
    "from selenium.webdriver.common.keys import Keys\n",
    "browser = webdriver.Chrome('c:/Temp/chromedriver')\n",
    "\n",
    "browser.get(\"http://www.google.com\")\n",
    "# 본인이 클릭하고 싶은 것 클릭\n",
    "target = browser.find_element_by_css_selector(\"#tsf > div:nth-child(2) > div.A8SBwf > div.FPdoLc.tfB0Bf > center > input.RNmpXc\")\n",
    "# window 새로운 탭 열기\n",
    "target.send_keys(Keys.CONTROL +\"\\n\") \n",
    "# mac 새로운 탭 열기\n",
    "# target.send_keys(Keys.COMMAND +\"\\n\")\n",
    "\n",
    "# window_name 출력\n",
    "print(browser.window_handles)\n",
    "\n",
    "# # 새로운 탭으로 초점을 전환\n",
    "# browser.switch_to_window(browser.window_handles[1])\n",
    "# # 현재 탭 종료browser.close()\n",
    "# # 첫번째 탭으로 전환\n",
    "# browser.switch_to_window(browser.window_handles[0])\n",
    "\n",
    "# # 모든 탭 종료\n",
    "# # browser.quit()"
   ]
  }
 ],
 "metadata": {
  "kernelspec": {
   "display_name": "pydatavenv",
   "language": "python",
   "name": "pydatavenv"
  },
  "language_info": {
   "codemirror_mode": {
    "name": "ipython",
    "version": 3
   },
   "file_extension": ".py",
   "mimetype": "text/x-python",
   "name": "python",
   "nbconvert_exporter": "python",
   "pygments_lexer": "ipython3",
   "version": "3.7.9"
  }
 },
 "nbformat": 4,
 "nbformat_minor": 4
}
