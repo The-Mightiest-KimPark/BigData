{
 "cells": [
  {
   "cell_type": "code",
   "execution_count": 1,
   "metadata": {},
   "outputs": [
    {
     "name": "stdout",
     "output_type": "stream",
     "text": [
      "1:6947317, 2:6947316, 3:6947315, 4:6947314, 5:6947313, 6:6947312, 7:6947311, 8:6947310, 9:6947309, 10:6947308, 11:6947307, 12:6947306, 13:6947305, 14:6947304, 15:6947303, 16:6947302, 17:6947301, 18:6947300, 19:6947299, 20:6947298, 21:6947297, 22:6947296, 23:6947295, 24:6947294, 25:6947293, 26:6947292, 27:6947291, 28:6947290, 29:6947289, 30:6947288, 31:6947286, 32:6947285, 33:6947284, 34:6947283, 35:6947282, 36:6947281, 37:6947280, 38:6947279, 39:6947278, 40:6947277, 41:6947276, 42:6947275, 43:6947274, 44:6947273, 45:6947272, 46:6947270, 47:6947269, 48:6947267, 49:6947266, 50:6947265, 51:6947264, 52:6947263, 53:6947262, 54:6947261, 55:6947260, 56:6947259, 57:6947258, 58:6947257, 59:6947256, 60:6947255, 61:6947254, 62:6947253, 63:6947252, 64:6947251, 65:6947250, 66:6947249, 67:6947248, 68:6947247, 69:6947246, 70:6947244, 71:6947243, 72:6947242, 73:6947241, 74:6947240, 75:6947239, 76:6947238, 77:6947237, 78:6947236, 79:6947235, 80:6947234, 81:6947233, 82:6947232, 83:6947231, 84:6947230, 85:6947229, 86:6947228, 87:6947227, 88:6947226, 89:6947225, 90:6947224, 91:6947223, 92:6947222, 93:6947221, 94:6947220, 95:6947219, 96:6947218, time:  30.033004999160767\n"
     ]
    }
   ],
   "source": [
    "import requests\n",
    "from bs4 import BeautifulSoup\n",
    "import re\n",
    "import time\n",
    "import pandas as pd\n",
    "import numpy as np\n",
    "from selenium import webdriver\n",
    "from selenium.webdriver.common.keys import Keys\n",
    "from selenium.webdriver.chrome.options import Options\n",
    "\n",
    "# 시작번호 https://www.10000recipe.com/recipe/6947317\n",
    "\n",
    "start = time.time()\n",
    "\n",
    "food_list = []\n",
    "ingredient_list = []\n",
    "seasoning_list = []\n",
    "how_to_list = []\n",
    "how_to_str = []\n",
    "recipe_num_list = []\n",
    "ingredient_name = []\n",
    "ingredient_name_list = []\n",
    "seasoning_name = []\n",
    "seasoning_name_list = []\n",
    "\n",
    "views_list =[]\n",
    "views = []\n",
    "img_url_list = []\n",
    "\n",
    "recipe_num = 6947317\n",
    "check_num = 1;\n",
    "\n",
    "while True:\n",
    "    req = requests.get(\"https://www.10000recipe.com/recipe/\"+ str(recipe_num))\n",
    "    html = req.text\n",
    "    if len(html) < 100:\n",
    "        while True:\n",
    "            recipe_num -= 1;\n",
    "            req = requests.get(\"https://www.10000recipe.com/recipe/\"+ str(recipe_num))\n",
    "            html = req.text\n",
    "            if len(html) > 200:\n",
    "                break;\n",
    "        \n",
    "    bs = BeautifulSoup(html, 'html.parser')\n",
    "    \n",
    "    # 크롤링 확인용\n",
    "    print(check_num, ':', recipe_num, sep='', end=', ')\n",
    "    \n",
    "    # 재료\n",
    "    d_ingredient = bs.select('#divConfirmedMaterialArea > ul:nth-of-type(1) > a > li')\n",
    "    ingredient_str = [dom.text for dom in d_ingredient]\n",
    "    ingredient_new_str = []\n",
    "        # 재료명과 갯수 전처리\n",
    "    for ingredient in ingredient_str:\n",
    "        instr = ingredient.replace('\\n', '')\n",
    "        instr = ' '.join(instr.split())\n",
    "        ingredient_new_str.append(instr)\n",
    "\n",
    "    ingredient_list.append(ingredient_new_str)\n",
    "    ingredient_str = []\n",
    "    \n",
    "    \n",
    "    # 양념\n",
    "    d_seasoning = bs.select('#divConfirmedMaterialArea > ul:nth-of-type(2) > a > li')\n",
    "    seasoning_str = [dom.text for dom in d_seasoning]\n",
    "    seasoning_new_str = []\n",
    "        # 양념명과 갯수 전처리\n",
    "    for seasoning in seasoning_str:\n",
    "        seastr = seasoning.replace('\\n', '')\n",
    "        seastr = ' '.join(seastr.split())\n",
    "        seasoning_new_str.append(seastr)\n",
    "    seasoning_list.append(seasoning_new_str)\n",
    "    seasoning_str = []\n",
    "\n",
    "    \n",
    "    recipe_num -= 1;\n",
    "    check_num += 1;\n",
    "    if recipe_num <= 6947217:\n",
    "        break;\n",
    "    \n",
    "\n",
    "df = pd.DataFrame({\"ingredient\" : ingredient_list\n",
    "                   , \"seasoning\" : seasoning_list})  \n",
    "\n",
    "df.to_csv(\"./output/(수정)재료명test.csv\", index=False)\n",
    "        \n",
    "print(\"time: \", time.time()-start)"
   ]
  },
  {
   "cell_type": "code",
   "execution_count": 4,
   "metadata": {},
   "outputs": [
    {
     "name": "stdout",
     "output_type": "stream",
     "text": [
      "<class 'str'>\n",
      "'간장 4스푼', '다진마늘 1스푼', '올리고당 1스푼', '참기름 1스푼'\n"
     ]
    }
   ],
   "source": [
    "import pandas as pd\n",
    "\n",
    "df= pd.read_csv('output/(최종수정)recipe수정본.csv')\n",
    "# for i in range(len(df['ingredient'])):\n",
    "#     df['ingredient'][i] = df['ingredient'][i].replace(\"'\", \"\")\n",
    "# for i in range(len(df['seasoning'])):\n",
    "#     df['seasoning'][i] = df['seasoning'][i].replace(\"'\", \"\")\n",
    "# for i in range(len(df['howto'])):\n",
    "#     df['howto'][i] = df['howto'][i].replace(\"'\", \"\")\n",
    "\n",
    "print(type(df['seasoning'][0]))\n",
    "print(df['seasoning'][0])\n",
    "# df.to_csv(\"output/(최종수정)recipe수정본.csv\", index=False)"
   ]
  },
  {
   "cell_type": "code",
   "execution_count": 22,
   "metadata": {},
   "outputs": [],
   "source": [
    "df= pd.read_csv('output/recipe.csv')"
   ]
  },
  {
   "cell_type": "code",
   "execution_count": 56,
   "metadata": {},
   "outputs": [
    {
     "name": "stdout",
     "output_type": "stream",
     "text": [
      "1.양파와 대파는 미리 썰어서 준비해주세요! \n",
      "양파랑 대파는 딱히 정해진 양 없이 기호에 맞게 넣어주셔도 무방합니다!\n",
      "2.소불고기는 키친타월로 살짝 눌러가며 핏물을 빼 주세요.\n",
      "3.준비해둔 양념과 소불고기를 을 한 볼에 넣고 조물조물 해주세요. 고기에 양념이 잘 베이도록 주물러 주세요.\n",
      "4.먼저 양파를 넣고 볶아주세요.중불\n",
      "5.고기를 넣고 살살 볶아주세요.중불소고기이다보니 금방 익어서 살짝만 익으면 다음 단계로 넘어가주세요.\n",
      "6.대파를 넣고 살살 익혀주세요. 고기가 익으면 완성입니다. \n",
      "*너무 오래 익히면 고기가 질겨질 수 있어요*약불\n"
     ]
    }
   ],
   "source": [
    "df['howto'][0] = '\\n'.join(df['howto'][0])\n",
    "print(df['howto'][0])"
   ]
  },
  {
   "cell_type": "code",
   "execution_count": 13,
   "metadata": {},
   "outputs": [
    {
     "name": "stdout",
     "output_type": "stream",
     "text": [
      "<class 'str'>\n",
      "['1. 양파와 대파는 미리 썰어서 준비해주세요! \\n양파랑 대파는 딱히 정해진 양 없이 기호에 맞게 넣어주셔도 무방합니다!', '2. 소불고기는 키친타월로 살짝 눌러가며 핏물을 빼 주세요.', '3. 준비해둔 양념과 소불고기를 을 한 볼에 넣고 조물조물 해주세요. 고기에 양념이 잘 베이도록 주물러 주세요.', '4. 먼저 양파를 넣고 볶아주세요.중불', '5. 고기를 넣고 살살 볶아주세요.중불소고기이다보니 금방 익어서 살짝만 익으면 다음 단계로 넘어가주세요.', '6. 대파를 넣고 살살 익혀주세요. 고기가 익으면 완성입니다. \\n*너무 오래 익히면 고기가 질겨질 수 있어요*약불']\n",
      "[\n"
     ]
    }
   ],
   "source": [
    "print(type(df['howto'][0]))\n",
    "print(df['howto'][0])\n",
    "print(df['howto'][0][0])"
   ]
  },
  {
   "cell_type": "code",
   "execution_count": 53,
   "metadata": {},
   "outputs": [
    {
     "name": "stdout",
     "output_type": "stream",
     "text": [
      "<class 'str'>\n",
      "1.양파와 대파는 미리 썰어서 준비해주세요! \n",
      "양파랑 대파는 딱히 정해진 양 없이 기호에 맞게 넣어주셔도 무방합니다!\n",
      "2.소불고기는 키친타월로 살짝 눌러가며 핏물을 빼 주세요.\n",
      "3.준비해둔 양념과 소불고기를 을 한 볼에 넣고 조물조물 해주세요. 고기에 양념이 잘 베이도록 주물러 주세요.\n",
      "4.먼저 양파를 넣고 볶아주세요.중불\n",
      "5.고기를 넣고 살살 볶아주세요.중불소고기이다보니 금방 익어서 살짝만 익으면 다음 단계로 넘어가주세요.\n",
      "6.대파를 넣고 살살 익혀주세요. 고기가 익으면 완성입니다. \n",
      "*너무 오래 익히면 고기가 질겨질 수 있어요*약불\n"
     ]
    },
    {
     "data": {
      "text/plain": [
       "'1.양파와 대파는 미리 썰어서 준비해주세요! \\n양파랑 대파는 딱히 정해진 양 없이 기호에 맞게 넣어주셔도 무방합니다!\\n2.소불고기는 키친타월로 살짝 눌러가며 핏물을 빼 주세요.\\n3.준비해둔 양념과 소불고기를 을 한 볼에 넣고 조물조물 해주세요. 고기에 양념이 잘 베이도록 주물러 주세요.\\n4.먼저 양파를 넣고 볶아주세요.중불\\n5.고기를 넣고 살살 볶아주세요.중불소고기이다보니 금방 익어서 살짝만 익으면 다음 단계로 넘어가주세요.\\n6.대파를 넣고 살살 익혀주세요. 고기가 익으면 완성입니다. \\n*너무 오래 익히면 고기가 질겨질 수 있어요*약불'"
      ]
     },
     "execution_count": 53,
     "metadata": {},
     "output_type": "execute_result"
    }
   ],
   "source": [
    "print(type(df['howto'][0]))\n",
    "print(df['howto'][0])\n",
    "df['howto'][0]"
   ]
  },
  {
   "cell_type": "code",
   "execution_count": 13,
   "metadata": {},
   "outputs": [
    {
     "name": "stdout",
     "output_type": "stream",
     "text": [
      "int64\n"
     ]
    }
   ],
   "source": [
    "df['views'] = df['views'].astype('int')\n",
    "print(df['views'].dtypes)"
   ]
  }
 ],
 "metadata": {
  "kernelspec": {
   "display_name": "awsvenv",
   "language": "python",
   "name": "awsvenv"
  },
  "language_info": {
   "codemirror_mode": {
    "name": "ipython",
    "version": 3
   },
   "file_extension": ".py",
   "mimetype": "text/x-python",
   "name": "python",
   "nbconvert_exporter": "python",
   "pygments_lexer": "ipython3",
   "version": "3.6.12"
  }
 },
 "nbformat": 4,
 "nbformat_minor": 2
}
