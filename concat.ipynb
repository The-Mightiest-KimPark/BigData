{
 "cells": [
  {
   "cell_type": "code",
   "execution_count": 1,
   "metadata": {},
   "outputs": [
    {
     "data": {
      "text/html": [
       "<div>\n",
       "<style scoped>\n",
       "    .dataframe tbody tr th:only-of-type {\n",
       "        vertical-align: middle;\n",
       "    }\n",
       "\n",
       "    .dataframe tbody tr th {\n",
       "        vertical-align: top;\n",
       "    }\n",
       "\n",
       "    .dataframe thead th {\n",
       "        text-align: right;\n",
       "    }\n",
       "</style>\n",
       "<table border=\"1\" class=\"dataframe\">\n",
       "  <thead>\n",
       "    <tr style=\"text-align: right;\">\n",
       "      <th></th>\n",
       "      <th>name</th>\n",
       "      <th>ingredient</th>\n",
       "      <th>ingredient_name</th>\n",
       "      <th>seasoning</th>\n",
       "      <th>seasoning_name</th>\n",
       "      <th>howto</th>\n",
       "      <th>views</th>\n",
       "      <th>img</th>\n",
       "      <th>recipe_num</th>\n",
       "    </tr>\n",
       "  </thead>\n",
       "  <tbody>\n",
       "    <tr>\n",
       "      <th>0</th>\n",
       "      <td>손쉽게 만드는 소불고기덮밥 레시피(불고기양념)</td>\n",
       "      <td>['소불고기 200g', '양파 1/2개', '대파 3개']</td>\n",
       "      <td>소불고기 양파 대파</td>\n",
       "      <td>['간장 4스푼', '다진마늘 1스푼', '올리고당 1스푼', '참기름 1스푼']</td>\n",
       "      <td>간장 다진마늘 올리고당 참기름</td>\n",
       "      <td>['1. 양파와 대파는 미리 썰어서 준비해주세요! \\n양파랑 대파는 딱히 정해진 양...</td>\n",
       "      <td>710</td>\n",
       "      <td>https://recipe1.ezmember.co.kr/cache/recipe/20...</td>\n",
       "      <td>6947317</td>\n",
       "    </tr>\n",
       "    <tr>\n",
       "      <th>1</th>\n",
       "      <td>사과를 활용한 요리 / 프랑스 가정식 애플 클라푸티 ( apple Clafouti )</td>\n",
       "      <td>['계란 1개', '설탕 30g', '우유 80ml', '생크림 70ml', '찹쌀...</td>\n",
       "      <td>계란 설탕 우유 생크림 찹쌀가루 박력분 바닐라 사과</td>\n",
       "      <td>[]</td>\n",
       "      <td>NaN</td>\n",
       "      <td>['1. 볼에 계란, 설탕, 우유, 생크림을 넣고 섞는다.', '2. 찹쌀가루는 고...</td>\n",
       "      <td>202</td>\n",
       "      <td>https://recipe1.ezmember.co.kr/cache/recipe/20...</td>\n",
       "      <td>6947316</td>\n",
       "    </tr>\n",
       "    <tr>\n",
       "      <th>2</th>\n",
       "      <td>사과를 활용한 요리 / 사과 겉절이</td>\n",
       "      <td>['사과 1개', '고춧가루 1Ts', '액젓 1Ts', '매실액 1/2Ts', '...</td>\n",
       "      <td>사과 고춧가루 액젓 매실액 레몬즙</td>\n",
       "      <td>[]</td>\n",
       "      <td>NaN</td>\n",
       "      <td>['1. 사과는 씻어 준비한다.', '2. 씻은 사과는 껍질째 채 썰어 준다.', ...</td>\n",
       "      <td>188</td>\n",
       "      <td>https://recipe1.ezmember.co.kr/cache/recipe/20...</td>\n",
       "      <td>6947315</td>\n",
       "    </tr>\n",
       "    <tr>\n",
       "      <th>3</th>\n",
       "      <td># 당면활용, 당면만두</td>\n",
       "      <td>['당면 120g', '계란 3개', '간장 2스푼', '튀김가루 1스푼', '홍고...</td>\n",
       "      <td>당면 계란 간장 튀김가루 홍고추 대파 참기름</td>\n",
       "      <td>['간장 1스푼', '식초 1스푼', '물 2스푼', '레몬즙 1스푼', '고추가루...</td>\n",
       "      <td>간장 식초 물 레몬즙 고추가루 다진마늘</td>\n",
       "      <td>['1. 끓는 물에 당면을 삶아 주세요.', '2. 삶은 당면을 체반에 하여 물기를...</td>\n",
       "      <td>138</td>\n",
       "      <td>https://recipe1.ezmember.co.kr/cache/recipe/20...</td>\n",
       "      <td>6947314</td>\n",
       "    </tr>\n",
       "    <tr>\n",
       "      <th>4</th>\n",
       "      <td>보들한 무청이 더 맛있는 코다리조림, 무청 코다리조림</td>\n",
       "      <td>['코다리 3마리', '무청 1줌', '간장 4큰술', '청주 3큰술', '고춧가루...</td>\n",
       "      <td>코다리 무청 간장 청주 고춧가루 다진마늘 매실청 참기름 후추 다시마 대파 청양고추</td>\n",
       "      <td>[]</td>\n",
       "      <td>NaN</td>\n",
       "      <td>['1. 코다리 3마리를 준비해 지느러미를 잘라내고 4등분으로 잘라 준 후 뼈에 붙...</td>\n",
       "      <td>579</td>\n",
       "      <td>https://recipe1.ezmember.co.kr/cache/recipe/20...</td>\n",
       "      <td>6947313</td>\n",
       "    </tr>\n",
       "    <tr>\n",
       "      <th>...</th>\n",
       "      <td>...</td>\n",
       "      <td>...</td>\n",
       "      <td>...</td>\n",
       "      <td>...</td>\n",
       "      <td>...</td>\n",
       "      <td>...</td>\n",
       "      <td>...</td>\n",
       "      <td>...</td>\n",
       "      <td>...</td>\n",
       "    </tr>\n",
       "    <tr>\n",
       "      <th>46560</th>\n",
       "      <td>국물 닭볶음탕!!</td>\n",
       "      <td>['닭 1마리', '감자 2개', '당근 1개', '양파 1/2개']</td>\n",
       "      <td>닭 감자 당근 양파</td>\n",
       "      <td>['간장 2t', '고추장 1t', '고추가루 1t', '설탕 2t', '후추 약간...</td>\n",
       "      <td>간장 고추장 고추가루 설탕 후추 다진마늘</td>\n",
       "      <td>['1. 각종 채소들을 깍둑썰기를 해둔다.', '2. 준비한 양념재료를 그릇에 담아...</td>\n",
       "      <td>2322</td>\n",
       "      <td>https://recipe1.ezmember.co.kr/cache/recipe/20...</td>\n",
       "      <td>6837322</td>\n",
       "    </tr>\n",
       "    <tr>\n",
       "      <th>46561</th>\n",
       "      <td>세계 3대 진미 트러플! 트러플 파스타</td>\n",
       "      <td>['파스타면 3인분', '베이컨 5줄', '마늘 10알', '방울토마토 10알']</td>\n",
       "      <td>파스타면 베이컨 마늘 방울토마토</td>\n",
       "      <td>['올리브유 넉넉히', '소금 약간', '후추 약간']</td>\n",
       "      <td>올리브유 소금 후추</td>\n",
       "      <td>['1. 재료를 깔끔히 준비해주셔요 :D', '2. 마늘은 편으로 얇게 썰어 주세요...</td>\n",
       "      <td>6137</td>\n",
       "      <td>https://recipe1.ezmember.co.kr/cache/recipe/20...</td>\n",
       "      <td>6837321</td>\n",
       "    </tr>\n",
       "    <tr>\n",
       "      <th>46562</th>\n",
       "      <td>우렁된장찌개, 구수하니 맛나요.</td>\n",
       "      <td>['감자 1개', '양파 1/2개', '애호박 1/2개', '두부 2/3모', '건...</td>\n",
       "      <td>감자 양파 애호박 두부 건표고 우렁살 청양고추 대파 멸치육수</td>\n",
       "      <td>['된장', '고춧가루']</td>\n",
       "      <td>된장 고춧가루</td>\n",
       "      <td>['1. 먼저 오늘의 주재료인 우렁살의 물때를 깨끗이 제거한다. 우렁살에 밀가루를 ...</td>\n",
       "      <td>23399</td>\n",
       "      <td>https://recipe1.ezmember.co.kr/cache/recipe/20...</td>\n",
       "      <td>6837320</td>\n",
       "    </tr>\n",
       "    <tr>\n",
       "      <th>46563</th>\n",
       "      <td>아스파라거스 피클</td>\n",
       "      <td>['아스파라거스 10대', '마른 홍고추 1대']</td>\n",
       "      <td>아스파라거스 마른</td>\n",
       "      <td>['물 1컵(200ml)', '식초 1/2컵', '설탕 1/2컵', '소금 1작은술...</td>\n",
       "      <td>물 식초 설탕 소금 피클링스파이스 월계수잎</td>\n",
       "      <td>['1. 냄비에 물을 채워 병입구를 물에 잠기도록 놔두고 물이 끓을 때까지 뒀다가 ...</td>\n",
       "      <td>7938</td>\n",
       "      <td>https://recipe1.ezmember.co.kr/cache/recipe/20...</td>\n",
       "      <td>6837319</td>\n",
       "    </tr>\n",
       "    <tr>\n",
       "      <th>46564</th>\n",
       "      <td>뚝배기 불고기</td>\n",
       "      <td>['소고기불고기 400g', '양파 1/2개', '당근 1/2개', '팽이버섯 1/...</td>\n",
       "      <td>소고기불고기 양파 당근 팽이버섯 대파 당면 멸치육수</td>\n",
       "      <td>['다시마 4조각', '건새우', '국물용 멸치 1줌', '물 6컵']</td>\n",
       "      <td>다시마 건새우 국물용 물</td>\n",
       "      <td>['1. 쇠고기는 키친 타올로 닦아 핏물을 제거하고 불고기 양념을 넣어 재워주세요....</td>\n",
       "      <td>7062</td>\n",
       "      <td>https://recipe1.ezmember.co.kr/cache/recipe/20...</td>\n",
       "      <td>6837318</td>\n",
       "    </tr>\n",
       "  </tbody>\n",
       "</table>\n",
       "<p>104649 rows × 9 columns</p>\n",
       "</div>"
      ],
      "text/plain": [
       "                                                  name  \\\n",
       "0                            손쉽게 만드는 소불고기덮밥 레시피(불고기양념)   \n",
       "1      사과를 활용한 요리 / 프랑스 가정식 애플 클라푸티 ( apple Clafouti )   \n",
       "2                                  사과를 활용한 요리 / 사과 겉절이   \n",
       "3                                         # 당면활용, 당면만두   \n",
       "4                        보들한 무청이 더 맛있는 코다리조림, 무청 코다리조림   \n",
       "...                                                ...   \n",
       "46560                                        국물 닭볶음탕!!   \n",
       "46561                           세계 3대 진미 트러플! 트러플 파스타    \n",
       "46562                                우렁된장찌개, 구수하니 맛나요.   \n",
       "46563                                       아스파라거스 피클    \n",
       "46564                                         뚝배기 불고기    \n",
       "\n",
       "                                              ingredient  \\\n",
       "0                      ['소불고기 200g', '양파 1/2개', '대파 3개']   \n",
       "1      ['계란 1개', '설탕 30g', '우유 80ml', '생크림 70ml', '찹쌀...   \n",
       "2      ['사과 1개', '고춧가루 1Ts', '액젓 1Ts', '매실액 1/2Ts', '...   \n",
       "3      ['당면 120g', '계란 3개', '간장 2스푼', '튀김가루 1스푼', '홍고...   \n",
       "4      ['코다리 3마리', '무청 1줌', '간장 4큰술', '청주 3큰술', '고춧가루...   \n",
       "...                                                  ...   \n",
       "46560             ['닭 1마리', '감자 2개', '당근 1개', '양파 1/2개']   \n",
       "46561      ['파스타면 3인분', '베이컨 5줄', '마늘 10알', '방울토마토 10알']   \n",
       "46562  ['감자 1개', '양파 1/2개', '애호박 1/2개', '두부 2/3모', '건...   \n",
       "46563                        ['아스파라거스 10대', '마른 홍고추 1대']   \n",
       "46564  ['소고기불고기 400g', '양파 1/2개', '당근 1/2개', '팽이버섯 1/...   \n",
       "\n",
       "                                     ingredient_name  \\\n",
       "0                                         소불고기 양파 대파   \n",
       "1                       계란 설탕 우유 생크림 찹쌀가루 박력분 바닐라 사과   \n",
       "2                                 사과 고춧가루 액젓 매실액 레몬즙   \n",
       "3                           당면 계란 간장 튀김가루 홍고추 대파 참기름   \n",
       "4      코다리 무청 간장 청주 고춧가루 다진마늘 매실청 참기름 후추 다시마 대파 청양고추   \n",
       "...                                              ...   \n",
       "46560                                     닭 감자 당근 양파   \n",
       "46561                              파스타면 베이컨 마늘 방울토마토   \n",
       "46562              감자 양파 애호박 두부 건표고 우렁살 청양고추 대파 멸치육수   \n",
       "46563                                      아스파라거스 마른   \n",
       "46564                   소고기불고기 양파 당근 팽이버섯 대파 당면 멸치육수   \n",
       "\n",
       "                                               seasoning  \\\n",
       "0          ['간장 4스푼', '다진마늘 1스푼', '올리고당 1스푼', '참기름 1스푼']   \n",
       "1                                                     []   \n",
       "2                                                     []   \n",
       "3      ['간장 1스푼', '식초 1스푼', '물 2스푼', '레몬즙 1스푼', '고추가루...   \n",
       "4                                                     []   \n",
       "...                                                  ...   \n",
       "46560  ['간장 2t', '고추장 1t', '고추가루 1t', '설탕 2t', '후추 약간...   \n",
       "46561                     ['올리브유 넉넉히', '소금 약간', '후추 약간']   \n",
       "46562                                     ['된장', '고춧가루']   \n",
       "46563  ['물 1컵(200ml)', '식초 1/2컵', '설탕 1/2컵', '소금 1작은술...   \n",
       "46564            ['다시마 4조각', '건새우', '국물용 멸치 1줌', '물 6컵']   \n",
       "\n",
       "                seasoning_name  \\\n",
       "0             간장 다진마늘 올리고당 참기름   \n",
       "1                          NaN   \n",
       "2                          NaN   \n",
       "3        간장 식초 물 레몬즙 고추가루 다진마늘   \n",
       "4                          NaN   \n",
       "...                        ...   \n",
       "46560   간장 고추장 고추가루 설탕 후추 다진마늘   \n",
       "46561               올리브유 소금 후추   \n",
       "46562                  된장 고춧가루   \n",
       "46563  물 식초 설탕 소금 피클링스파이스 월계수잎   \n",
       "46564            다시마 건새우 국물용 물   \n",
       "\n",
       "                                                   howto  views  \\\n",
       "0      ['1. 양파와 대파는 미리 썰어서 준비해주세요! \\n양파랑 대파는 딱히 정해진 양...    710   \n",
       "1      ['1. 볼에 계란, 설탕, 우유, 생크림을 넣고 섞는다.', '2. 찹쌀가루는 고...    202   \n",
       "2      ['1. 사과는 씻어 준비한다.', '2. 씻은 사과는 껍질째 채 썰어 준다.', ...    188   \n",
       "3      ['1. 끓는 물에 당면을 삶아 주세요.', '2. 삶은 당면을 체반에 하여 물기를...    138   \n",
       "4      ['1. 코다리 3마리를 준비해 지느러미를 잘라내고 4등분으로 잘라 준 후 뼈에 붙...    579   \n",
       "...                                                  ...    ...   \n",
       "46560  ['1. 각종 채소들을 깍둑썰기를 해둔다.', '2. 준비한 양념재료를 그릇에 담아...   2322   \n",
       "46561  ['1. 재료를 깔끔히 준비해주셔요 :D', '2. 마늘은 편으로 얇게 썰어 주세요...   6137   \n",
       "46562  ['1. 먼저 오늘의 주재료인 우렁살의 물때를 깨끗이 제거한다. 우렁살에 밀가루를 ...  23399   \n",
       "46563  ['1. 냄비에 물을 채워 병입구를 물에 잠기도록 놔두고 물이 끓을 때까지 뒀다가 ...   7938   \n",
       "46564  ['1. 쇠고기는 키친 타올로 닦아 핏물을 제거하고 불고기 양념을 넣어 재워주세요....   7062   \n",
       "\n",
       "                                                     img  recipe_num  \n",
       "0      https://recipe1.ezmember.co.kr/cache/recipe/20...     6947317  \n",
       "1      https://recipe1.ezmember.co.kr/cache/recipe/20...     6947316  \n",
       "2      https://recipe1.ezmember.co.kr/cache/recipe/20...     6947315  \n",
       "3      https://recipe1.ezmember.co.kr/cache/recipe/20...     6947314  \n",
       "4      https://recipe1.ezmember.co.kr/cache/recipe/20...     6947313  \n",
       "...                                                  ...         ...  \n",
       "46560  https://recipe1.ezmember.co.kr/cache/recipe/20...     6837322  \n",
       "46561  https://recipe1.ezmember.co.kr/cache/recipe/20...     6837321  \n",
       "46562  https://recipe1.ezmember.co.kr/cache/recipe/20...     6837320  \n",
       "46563  https://recipe1.ezmember.co.kr/cache/recipe/20...     6837319  \n",
       "46564  https://recipe1.ezmember.co.kr/cache/recipe/20...     6837318  \n",
       "\n",
       "[104649 rows x 9 columns]"
      ]
     },
     "execution_count": 1,
     "metadata": {},
     "output_type": "execute_result"
    }
   ],
   "source": [
    "import pandas as pd\n",
    "\n",
    "df1 = pd.read_csv('./output/(최종수정)최종레시피1.csv')\n",
    "df2 = pd.read_csv('./output/(최종수정)최종레시피2.csv')\n",
    "df3 = pd.read_csv('./output/(최종수정)최종레시피3.csv')\n",
    "df4 = pd.read_csv('./output/(최종수정)최종레시피4.csv')\n",
    "df4 = pd.read_csv('./output/(최종수정)최종레시피5.csv')\n",
    "\n",
    "df = pd.concat([df1, df2, df3, df4, df5])\n",
    "df"
   ]
  },
  {
   "cell_type": "code",
   "execution_count": 2,
   "metadata": {},
   "outputs": [],
   "source": [
    "df.to_csv('./output/(최종수정)recipe.csv', index=False)\n",
    "df = pd.read_csv('./output/(최종수정)recipe.csv')\n",
    "# howto 결측값은 추가로 전처리\n",
    "df.dropna(subset=['ingredient_name', 'name'], inplace=True)\n",
    "df.to_csv('./output/(최종수정)recipe.csv', index=False)"
   ]
  },
  {
   "cell_type": "code",
   "execution_count": null,
   "metadata": {},
   "outputs": [],
   "source": [
    "import pandas as pd\n",
    "from ast import literal_eval\n",
    "import re\n",
    "df = pd.read_csv(\"output/(최종수정)recipe.csv\", converters={'ingredient' : literal_eval, 'seasoning' : literal_eval,'howto' : literal_eval})\n",
    "\n",
    "for i in range(len(df['howto'])):\n",
    "    for n in range(len(df['howto'][i])):\n",
    "        df['howto'][i][n] = re.sub('\\n\\r\\n.*?\\n\\n', '', df['howto'][i][n])\n",
    "    print(i, end=',')\n",
    "\n",
    "df.to_csv('output/(최종수정)recipe수정본.csv', index = False)"
   ]
  },
  {
   "cell_type": "code",
   "execution_count": 41,
   "metadata": {},
   "outputs": [
    {
     "name": "stdout",
     "output_type": "stream",
     "text": [
      "<class 'list'>\n",
      "4\n"
     ]
    },
    {
     "data": {
      "text/plain": [
       "'4. 마요네즈를 뿌린 후 에어프라이어에 170도에서 10분간 돌려 완성한다.마지막에 파슬리가루를 뿌려요.  '"
      ]
     },
     "execution_count": 41,
     "metadata": {},
     "output_type": "execute_result"
    }
   ],
   "source": [
    "print(type(df['howto'][101]))\n",
    "print(len(df['howto'][101]))\n",
    "df['howto'][101][3]"
   ]
  },
  {
   "cell_type": "code",
   "execution_count": 42,
   "metadata": {},
   "outputs": [
    {
     "name": "stderr",
     "output_type": "stream",
     "text": [
      "/home/lab02/.conda/envs/awsvenv/lib/python3.6/site-packages/ipykernel_launcher.py:5: SettingWithCopyWarning: \n",
      "A value is trying to be set on a copy of a slice from a DataFrame\n",
      "\n",
      "See the caveats in the documentation: https://pandas.pydata.org/pandas-docs/stable/user_guide/indexing.html#returning-a-view-versus-a-copy\n",
      "  \"\"\"\n"
     ]
    },
    {
     "name": "stdout",
     "output_type": "stream",
     "text": [
      "ingredient끝\n"
     ]
    },
    {
     "name": "stderr",
     "output_type": "stream",
     "text": [
      "/home/lab02/.conda/envs/awsvenv/lib/python3.6/site-packages/ipykernel_launcher.py:9: SettingWithCopyWarning: \n",
      "A value is trying to be set on a copy of a slice from a DataFrame\n",
      "\n",
      "See the caveats in the documentation: https://pandas.pydata.org/pandas-docs/stable/user_guide/indexing.html#returning-a-view-versus-a-copy\n",
      "  if __name__ == '__main__':\n"
     ]
    },
    {
     "name": "stdout",
     "output_type": "stream",
     "text": [
      "seasoning끝\n"
     ]
    },
    {
     "name": "stderr",
     "output_type": "stream",
     "text": [
      "/home/lab02/.conda/envs/awsvenv/lib/python3.6/site-packages/ipykernel_launcher.py:13: SettingWithCopyWarning: \n",
      "A value is trying to be set on a copy of a slice from a DataFrame\n",
      "\n",
      "See the caveats in the documentation: https://pandas.pydata.org/pandas-docs/stable/user_guide/indexing.html#returning-a-view-versus-a-copy\n",
      "  del sys.path[0]\n"
     ]
    },
    {
     "name": "stdout",
     "output_type": "stream",
     "text": [
      "howto끝\n"
     ]
    }
   ],
   "source": [
    "from ast import literal_eval\n",
    "df = pd.read_csv('output/(최종수정)recipe수정본.csv', converters={'ingredient' : literal_eval, 'seasoning' : literal_eval,'howto' : literal_eval})\n",
    "\n",
    "for i in range(len(df['ingredient'])):\n",
    "    df['ingredient'][i] = ', '.join(df['ingredient'][i])\n",
    "print('ingredient끝')\n",
    "\n",
    "for i in range(len(df['seasoning'])):\n",
    "    df['seasoning'][i] = ', '.join(df['seasoning'][i])\n",
    "print('seasoning끝')\n",
    "\n",
    "for i in range(len(df['howto'])):\n",
    "    df['howto'][i] = '\\n'.join(df['howto'][i])\n",
    "print('howto끝')\n",
    "\n",
    "df.dropna(subset=['ingredient_name', 'name', 'howto'], inplace=True)\n",
    "df.to_csv('output/(최종수정)recipe수정본2.csv', index=False)"
   ]
  },
  {
   "cell_type": "code",
   "execution_count": 46,
   "metadata": {},
   "outputs": [
    {
     "name": "stdout",
     "output_type": "stream",
     "text": [
      "<class 'float'>\n",
      "nan\n",
      "3304\n",
      "0\n",
      "0\n"
     ]
    }
   ],
   "source": [
    "import pandas as pd\n",
    "df = pd.read_csv('output/(최종수정)recipe수정본2.csv')\n",
    "\n",
    "print(type(df['howto'][37]))\n",
    "print(df['howto'][37])\n",
    "print(df['howto'].isnull().sum())\n",
    "df.dropna(subset=['name', 'ingredient', 'howto'], inplace=True)\n",
    "print(df['howto'].isnull().sum())\n",
    "print(df['ingredient'].isnull().sum())\n",
    "df.to_csv('output/(최종수정)recipe수정본3.csv', index=False)"
   ]
  },
  {
   "cell_type": "code",
   "execution_count": 55,
   "metadata": {},
   "outputs": [
    {
     "name": "stdout",
     "output_type": "stream",
     "text": [
      "<class 'str'>\n"
     ]
    },
    {
     "name": "stderr",
     "output_type": "stream",
     "text": [
      "/home/lab02/.conda/envs/awsvenv/lib/python3.6/site-packages/ipykernel_launcher.py:5: SettingWithCopyWarning: \n",
      "A value is trying to be set on a copy of a slice from a DataFrame\n",
      "\n",
      "See the caveats in the documentation: https://pandas.pydata.org/pandas-docs/stable/user_guide/indexing.html#returning-a-view-versus-a-copy\n",
      "  \"\"\"\n"
     ]
    }
   ],
   "source": [
    "# import pandas as pd\n",
    "# df = pd.read_csv('output/(최종수정)recipe수정본3.csv')\n",
    "print(type(df['howto'][37]))\n",
    "for i in range(len(df['howto'])):\n",
    "    df['howto'][i] = ' '.join(df['howto'][i].split())\n",
    "df.to_csv('output/(최종수정)recipe수정본4.csv', index=False)"
   ]
  },
  {
   "cell_type": "code",
   "execution_count": 11,
   "metadata": {},
   "outputs": [
    {
     "name": "stdout",
     "output_type": "stream",
     "text": [
      "<class 'pandas.core.frame.DataFrame'>\n",
      "RangeIndex: 7868 entries, 0 to 7867\n",
      "Data columns (total 9 columns):\n",
      " #   Column           Non-Null Count  Dtype \n",
      "---  ------           --------------  ----- \n",
      " 0   name             7868 non-null   object\n",
      " 1   ingredient       7867 non-null   object\n",
      " 2   ingredient_name  7868 non-null   object\n",
      " 3   seasoning        6076 non-null   object\n",
      " 4   seasoning_name   6076 non-null   object\n",
      " 5   howto            7867 non-null   object\n",
      " 6   views            7868 non-null   int32 \n",
      " 7   img              7867 non-null   object\n",
      " 8   recipe_num       7868 non-null   int32 \n",
      "dtypes: int32(2), object(7)\n",
      "memory usage: 491.9+ KB\n"
     ]
    }
   ],
   "source": [
    "import pandas as pd\n",
    "df = pd.read_csv('output/코사인용2.csv')\n",
    "df = df.astype({'views': 'int', 'recipe_num' : 'int'})\n",
    "df.info()\n",
    "df.to_csv('output/코사인용2.csv')"
   ]
  },
  {
   "cell_type": "code",
   "execution_count": 36,
   "metadata": {},
   "outputs": [],
   "source": [
    "import pandas as pd\n",
    "df = pd.read_csv('output/(완성본)recipe-Copy1.csv')\n",
    "# df = df.astype({'name': 'str', 'ingredient': 'str', 'ingredient_name': 'str', 'seasoning' : 'str', 'seasoning_name': 'str', 'views': 'int', 'recipe_num' : 'int'})\n",
    "# df.info()\n",
    "# df.to_csv('output/(완성본)recipe-Copy1.csv')"
   ]
  },
  {
   "cell_type": "code",
   "execution_count": 37,
   "metadata": {},
   "outputs": [
    {
     "name": "stderr",
     "output_type": "stream",
     "text": [
      "C:\\Users\\wima9\\anaconda3\\envs\\pydatavenv\\lib\\site-packages\\ipykernel_launcher.py:3: SettingWithCopyWarning: \n",
      "A value is trying to be set on a copy of a slice from a DataFrame\n",
      "\n",
      "See the caveats in the documentation: https://pandas.pydata.org/pandas-docs/stable/user_guide/indexing.html#returning-a-view-versus-a-copy\n",
      "  This is separate from the ipykernel package so we can avoid doing imports until\n"
     ]
    }
   ],
   "source": [
    "for i in range(len(df)):\n",
    "    if not df['seasoning'].isnull()[i]:\n",
    "        df['ingredient'][i] = str(df['ingredient'][i]) + ', ' + str(df['seasoning'][i])\n",
    "#         df['ingredient'][i] = str(df['ingredient'][i]) + '\\n[양념] ' + str(df['seasoning'][i])\n",
    "        \n",
    "df.to_csv('output/(완성본)recipe-Copy2.csv')"
   ]
  },
  {
   "cell_type": "code",
   "execution_count": 38,
   "metadata": {},
   "outputs": [
    {
     "name": "stderr",
     "output_type": "stream",
     "text": [
      "C:\\Users\\wima9\\anaconda3\\envs\\pydatavenv\\lib\\site-packages\\ipykernel_launcher.py:7: SettingWithCopyWarning: \n",
      "A value is trying to be set on a copy of a slice from a DataFrame\n",
      "\n",
      "See the caveats in the documentation: https://pandas.pydata.org/pandas-docs/stable/user_guide/indexing.html#returning-a-view-versus-a-copy\n",
      "  import sys\n"
     ]
    }
   ],
   "source": [
    "import pandas as pd\n",
    "df = pd.read_csv('output/(완성본)recipe-Copy1.csv')\n",
    "\n",
    "for i in range(len(df)):\n",
    "    if not df['seasoning'].isnull()[i]:\n",
    "#         df['ingredient'][i] = str(df['ingredient'][i]) + ', ' + str(df['seasoning'][i])\n",
    "        df['ingredient'][i] = str(df['ingredient'][i]) + '\\n[양념] ' + str(df['seasoning'][i])\n",
    "        \n",
    "df.to_csv('output/(완성본)recipe-Copy3.csv')"
   ]
  }
 ],
 "metadata": {
  "kernelspec": {
   "display_name": "pydatavenv",
   "language": "python",
   "name": "pydatavenv"
  },
  "language_info": {
   "codemirror_mode": {
    "name": "ipython",
    "version": 3
   },
   "file_extension": ".py",
   "mimetype": "text/x-python",
   "name": "python",
   "nbconvert_exporter": "python",
   "pygments_lexer": "ipython3",
   "version": "3.7.9"
  }
 },
 "nbformat": 4,
 "nbformat_minor": 4
}
