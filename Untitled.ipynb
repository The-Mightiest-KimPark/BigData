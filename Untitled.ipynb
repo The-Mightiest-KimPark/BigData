{
 "cells": [
  {
   "cell_type": "code",
   "execution_count": 14,
   "metadata": {},
   "outputs": [
    {
     "name": "stdout",
     "output_type": "stream",
     "text": [
      "<class 'str'>\n"
     ]
    }
   ],
   "source": [
    "import pandas as pd\n",
    "\n",
    "# df = pd.read_csv('output/(수정)최종레시피1.csv')\n",
    "df = pd.read_csv('output/recipe.csv')\n",
    "print(type(df['ingredient'][0]))"
   ]
  },
  {
   "cell_type": "code",
   "execution_count": 15,
   "metadata": {},
   "outputs": [
    {
     "data": {
      "text/plain": [
       "name                  0\n",
       "ingredient            0\n",
       "ingredient_name       0\n",
       "seasoning             0\n",
       "seasoning_name     4660\n",
       "howto                 0\n",
       "views                 0\n",
       "img                   0\n",
       "recipe_num            0\n",
       "dtype: int64"
      ]
     },
     "execution_count": 15,
     "metadata": {},
     "output_type": "execute_result"
    }
   ],
   "source": [
    "df.isnull().sum(axis=0)"
   ]
  },
  {
   "cell_type": "code",
   "execution_count": 3,
   "metadata": {},
   "outputs": [],
   "source": [
    "df.dropna(subset=['name', 'ingredient_name'], inplace=True)\n",
    "# if df[]"
   ]
  },
  {
   "cell_type": "code",
   "execution_count": 4,
   "metadata": {},
   "outputs": [],
   "source": [
    "df.to_csv('전처리레시피.csv')"
   ]
  },
  {
   "cell_type": "code",
   "execution_count": 5,
   "metadata": {},
   "outputs": [
    {
     "name": "stdout",
     "output_type": "stream",
     "text": [
      "['1. 감자를 4등분 해주세요', '2. 남비에 물 반 넣고 찜기를 올리고', '3. 12분 쪄주었어요\\n중간에 젓가락으로 찔러서 확인합니다', '4. 감자가 푹 익었어요', '5. 감자를 으깨주세요', '6. 소금(죽염) 후추를 뿌려 주세요', '7. 소세지를 칼집 넣고 잘라주세요', '8. 소세지에 감자를 뭉쳐서 동그랗게 만들어 주세요', '9. 소세지를 더 작게 잘라서 7개 만들었어요', '10. 겉에 씨리얼을 묻혀 주세요', '11. 잘게 부숴서 골고루 묻혀 주세요', '12. 에어프라이어에 170도 4분 돌렸어요', '13. 겉바속촉 짭조름한 소세지 감자볼 입니다']\n"
     ]
    }
   ],
   "source": [
    "print(df['howto'][38])"
   ]
  },
  {
   "cell_type": "code",
   "execution_count": 6,
   "metadata": {},
   "outputs": [
    {
     "name": "stdout",
     "output_type": "stream",
     "text": [
      "<class 'str'>\n"
     ]
    }
   ],
   "source": [
    "df2 = pd.read_csv('조리방법전처리.csv')\n",
    "df2['howto'][0]\n",
    "print(type(df2['howto'][0]))"
   ]
  },
  {
   "cell_type": "code",
   "execution_count": 22,
   "metadata": {},
   "outputs": [
    {
     "name": "stdout",
     "output_type": "stream",
     "text": [
      "1:6947102, 2:6947101, 3:6947100, 4:6947099, 5:6947098, 6:6947097, 7:6947096, 8:6947095, 9:6947094, 10:6947093, 11:6947092, 12:6947091, 13:6947090, 14:6947089, 15:6947088, 16:6947087, 17:6947086, 18:6947085, 19:6947084, 20:6947083, 21:6947082, 22:6947081, 23:6947080, 24:6947079, 25:6947078, 26:6947077, 27:6947076, 28:6947075, 29:6947074, 30:6947073, 31:6947072, 32:6947071, 33:6947070, 34:6947069, 35:6947068, 36:6947067, 37:6947066, 38:6947065, 39:6947064, 40:6947063, 41:6947062, 42:6947061, 43:6947060, 44:6947059, 45:6947058, 46:6947057, 47:6947056, 48:6947055, 49:6947054, 50:6947053, 51:6947052, 52:6947051, 53:6947050, 54:6947049, 55:6947048, 56:6947047, 57:6947046, 58:6947045, 59:6947044, 60:6947043, 61:6947042, 62:6947041, 63:6947040, 64:6947039, 65:6947038, 66:6947037, 67:6947036, 68:6947035, 69:6947034, 70:6947033, 71:6947032, 72:6947031, 73:6947030, 74:6947029, 75:6947028, 76:6947027, 77:6947026, 78:6947025, 79:6947024, 80:6947023, 81:6947022, 82:6947021, 83:6947020, 84:6947019, 85:6947018, 86:6947017, 87:6947016, 88:6947015, 89:6947014, 90:6947013, 91:6947012, 92:6947010, 93:6947009, 94:6947008, 95:6947007, 96:6947006, 97:6947005, 98:6947004, 99:6947003, time:  52.19666004180908\n"
     ]
    }
   ],
   "source": [
    "import requests\n",
    "from bs4 import BeautifulSoup\n",
    "import re\n",
    "import time\n",
    "import pandas as pd\n",
    "import numpy as np\n",
    "from selenium import webdriver\n",
    "from selenium.webdriver.common.keys import Keys\n",
    "from selenium.webdriver.chrome.options import Options\n",
    "\n",
    "# 시작번호 https://www.10000recipe.com/recipe/6947317\n",
    "\n",
    "start = time.time()\n",
    "\n",
    "food_list = []\n",
    "ingredient_list = []\n",
    "seasoning_list = []\n",
    "how_to_list = []\n",
    "how_to_str = []\n",
    "recipe_num_list = []\n",
    "ingredient_name = []\n",
    "ingredient_name_list = []\n",
    "seasoning_name = []\n",
    "seasoning_name_list = []\n",
    "views_list = []\n",
    "img_url_list = []\n",
    "\n",
    "recipe_num = 6947102\n",
    "check_num = 1;\n",
    "\n",
    "while True:\n",
    "    req = requests.get(\"https://www.10000recipe.com/recipe/\"+ str(recipe_num))\n",
    "    html = req.text\n",
    "    if len(html) < 100:\n",
    "        while True:\n",
    "            recipe_num -= 1;\n",
    "            req = requests.get(\"https://www.10000recipe.com/recipe/\"+ str(recipe_num))\n",
    "            html = req.text\n",
    "            if len(html) > 200:\n",
    "                break;\n",
    "        \n",
    "    bs = BeautifulSoup(html, 'html.parser')\n",
    "    \n",
    "    # 크롤링 확인용\n",
    "    print(check_num, ':', recipe_num, sep='', end=', ')\n",
    "    \n",
    "    # 음식이름\n",
    "    d_food = bs.select('#contents_area > div.view2_summary.st3 > h3')\n",
    "    food = [dom.text for dom in d_food]\n",
    "    food_str = ''.join(food)\n",
    "    food = []\n",
    "    food_list.append(food_str)\n",
    "\n",
    "    # 재료\n",
    "    d_ingredient = bs.select('#divConfirmedMaterialArea > ul:nth-of-type(1)')\n",
    "    ingredient_str = [dom.text for dom in d_ingredient]\n",
    "    ingredient_str = ''.join(ingredient_str).split()[1:]\n",
    "    ingredient_list.append(ingredient_str)\n",
    "    ingredient_str = []\n",
    "\n",
    "    \n",
    "    # 재료명 (유사도검사를 위한)\n",
    "    inum = 1;\n",
    "    while True:\n",
    "        d_ingredient_name = bs.select('#divConfirmedMaterialArea > ul:nth-of-type(1) > a:nth-of-type('+ str(inum) +') > li')\n",
    "        if not d_ingredient_name :\n",
    "            break;\n",
    "        inum += 1;\n",
    "        ingredient_name_str = [dom.text for dom in d_ingredient_name]\n",
    "        ingredient_name_str = ''.join(ingredient_name_str).split()[0]\n",
    "        ingredient_name.append(ingredient_name_str)\n",
    "        ingredient_name_str = []\n",
    "    ingredient_name = ' '.join(ingredient_name)\n",
    "    ingredient_name_list.append(ingredient_name)\n",
    "    ingredient_name = []\n",
    "    \n",
    "    # 양념\n",
    "    d_seasoning = bs.select('#divConfirmedMaterialArea > ul:nth-of-type(2)')\n",
    "    seasoning_str = [dom.text for dom in d_seasoning]\n",
    "    seasoning_str = ''.join(seasoning_str).split()[1:]\n",
    "    seasoning_list.append(seasoning_str)\n",
    "    seasoning_str = []\n",
    "\n",
    "    \n",
    "    # 양념 재료명 (유사도검사를 위한)\n",
    "    snum = 1;\n",
    "    while True:\n",
    "        d_seasoning_name = bs.select('#divConfirmedMaterialArea > ul:nth-of-type(2) > a:nth-of-type('+ str(snum) +') > li')\n",
    "        if not d_seasoning_name :\n",
    "            break;\n",
    "        snum += 1;\n",
    "        seasoning_name_str = [dom.text for dom in d_seasoning_name]\n",
    "        seasoning_name_str = ''.join(seasoning_name_str).split()[0]\n",
    "        seasoning_name.append(seasoning_name_str)\n",
    "        seasoning_name_str = []\n",
    "    seasoning_name = ' '.join(seasoning_name)\n",
    "    seasoning_name_list.append(seasoning_name)\n",
    "    seasoning_name = []\n",
    "    \n",
    "\n",
    "    # 조리방법\n",
    "    cnum = 1;\n",
    "    while True:\n",
    "        d_howto = bs.select('#stepdescr'+ str(cnum))\n",
    "        hlist = [dom.text for dom in d_howto]\n",
    "        if not hlist:\n",
    "            break;        \n",
    "        hlist = hlist[0]\n",
    "        howtolist = str(cnum) + '.' + hlist\n",
    "        howtolist = howtolist.split('  ', 1)[0]\n",
    "        how_to_str.append(howtolist)\n",
    "        hlist = []\n",
    "        cnum += 1;\n",
    "#     if not how_to_str:\n",
    "#         d_howto = bs.select('.view_step')\n",
    "#         hlist = [dom.text for dom in d_howto][0].replace('원본보기', '').replace('\\n', '')\n",
    "#         how_to_str = hlist.split(\"\\r\")[0].split('\\xa0')\n",
    "#         how_to_str = [a for a in how_to_str if a]\n",
    "#         hlist = []\n",
    "    how_to_list.append(how_to_str)\n",
    "    how_to_str = []\n",
    "    \n",
    "    \n",
    "    # 조회수\n",
    "    d_views = bs.select('#contents_area > div.view2_pic > div.view_cate.st2 > div > span')\n",
    "    views = [dom.text for dom in d_views]\n",
    "    views_str = re.sub('[^0-9]', '', str(views))\n",
    "    views = []\n",
    "    views_list.append(views_str)\n",
    "    \n",
    "    \n",
    "    # 이미지\n",
    "    d_img = bs.select('#main_thumbs')\n",
    "    img_url = re.findall('http.*?.jpg', str(d_img))\n",
    "    if not img_url:\n",
    "        img_url = re.findall('http.*?.png', str(d_img))\n",
    "    img_url_list.append(img_url[0])\n",
    "    \n",
    "    \n",
    "    # 레시피번호\n",
    "    recipe_num_list.append(recipe_num)\n",
    "    \n",
    "    recipe_num -= 1;\n",
    "    check_num += 1;\n",
    "    if recipe_num <= 6947002:\n",
    "        break;\n",
    "    \n",
    "\n",
    "df = pd.DataFrame({\"name\" : food_list,\n",
    "                   \"ingredient\" : ingredient_list,\n",
    "                   \"ingredient_name\" : ingredient_name_list,\n",
    "                   \"seasoning\" : seasoning_list,\n",
    "                   \"seasoning_name\" : seasoning_name_list,\n",
    "                   \"howto\" : how_to_list,\n",
    "                   \"views\" : views_list,\n",
    "                   \"img\" : img_url_list,\n",
    "                   \"recipe_num\" : recipe_num_list})  \n",
    "\n",
    "df.to_csv(\"조리방법전처리.csv\", index=False)\n",
    "        \n",
    "print(\"time: \", time.time()-start)"
   ]
  }
 ],
 "metadata": {
  "kernelspec": {
   "display_name": "pydatavenv",
   "language": "python",
   "name": "pydatavenv"
  },
  "language_info": {
   "codemirror_mode": {
    "name": "ipython",
    "version": 3
   },
   "file_extension": ".py",
   "mimetype": "text/x-python",
   "name": "python",
   "nbconvert_exporter": "python",
   "pygments_lexer": "ipython3",
   "version": "3.7.9"
  }
 },
 "nbformat": 4,
 "nbformat_minor": 4
}
