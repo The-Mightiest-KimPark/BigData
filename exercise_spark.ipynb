{
 "cells": [
  {
   "cell_type": "code",
   "execution_count": 1,
   "metadata": {},
   "outputs": [],
   "source": [
    "import pyspark\n",
    "from pyspark.sql import SparkSession\n",
    "spark = SparkSession.builder.master(\"local[8]\") \\\n",
    "                    .appName('sparkedu') \\\n",
    "                    .getOrCreate()"
   ]
  },
  {
   "cell_type": "code",
   "execution_count": 3,
   "metadata": {},
   "outputs": [
    {
     "ename": "TypeError",
     "evalue": "text() got an unexpected keyword argument 'converters'",
     "output_type": "error",
     "traceback": [
      "\u001b[0;31m---------------------------------------------------------------------------\u001b[0m",
      "\u001b[0;31mTypeError\u001b[0m                                 Traceback (most recent call last)",
      "\u001b[0;32m<ipython-input-3-0835308417c5>\u001b[0m in \u001b[0;36m<module>\u001b[0;34m\u001b[0m\n\u001b[1;32m      1\u001b[0m \u001b[0;32mfrom\u001b[0m \u001b[0mast\u001b[0m \u001b[0;32mimport\u001b[0m \u001b[0mliteral_eval\u001b[0m\u001b[0;34m\u001b[0m\u001b[0;34m\u001b[0m\u001b[0m\n\u001b[0;32m----> 2\u001b[0;31m \u001b[0mrdd\u001b[0m \u001b[0;34m=\u001b[0m \u001b[0mspark\u001b[0m\u001b[0;34m.\u001b[0m\u001b[0mread\u001b[0m\u001b[0;34m.\u001b[0m\u001b[0mtext\u001b[0m\u001b[0;34m(\u001b[0m\u001b[0;34m\"output/(수정)최종레시피1.csv\"\u001b[0m\u001b[0;34m,\u001b[0m \u001b[0mconverters\u001b[0m\u001b[0;34m=\u001b[0m\u001b[0;34m{\u001b[0m\u001b[0;34m'ingredient'\u001b[0m \u001b[0;34m:\u001b[0m \u001b[0mliteral_eval\u001b[0m\u001b[0;34m,\u001b[0m \u001b[0;34m'seasoning'\u001b[0m \u001b[0;34m:\u001b[0m \u001b[0mliteral_eval\u001b[0m\u001b[0;34m,\u001b[0m \u001b[0;34m'howto'\u001b[0m \u001b[0;34m:\u001b[0m \u001b[0mliteral_eval\u001b[0m\u001b[0;34m}\u001b[0m\u001b[0;34m)\u001b[0m\u001b[0;34m\u001b[0m\u001b[0;34m\u001b[0m\u001b[0m\n\u001b[0m\u001b[1;32m      3\u001b[0m \u001b[0mprint\u001b[0m\u001b[0;34m(\u001b[0m\u001b[0mtype\u001b[0m\u001b[0;34m(\u001b[0m\u001b[0mrdd\u001b[0m\u001b[0;34m)\u001b[0m\u001b[0;34m)\u001b[0m\u001b[0;34m\u001b[0m\u001b[0;34m\u001b[0m\u001b[0m\n\u001b[1;32m      4\u001b[0m \u001b[0mprint\u001b[0m\u001b[0;34m(\u001b[0m\u001b[0mrdd\u001b[0m\u001b[0;34m.\u001b[0m\u001b[0mcollect\u001b[0m\u001b[0;34m(\u001b[0m\u001b[0;34m)\u001b[0m\u001b[0;34m[\u001b[0m\u001b[0;36m1\u001b[0m\u001b[0;34m]\u001b[0m\u001b[0;34m)\u001b[0m\u001b[0;34m\u001b[0m\u001b[0;34m\u001b[0m\u001b[0m\n",
      "\u001b[0;31mTypeError\u001b[0m: text() got an unexpected keyword argument 'converters'"
     ]
    }
   ],
   "source": [
    "from ast import literal_eval\n",
    "rdd = spark.read.text(\"output/(수정)최종레시피1.csv\", converters={'ingredient' : literal_eval, 'seasoning' : literal_eval, 'howto' : literal_eval})\n",
    "print(type(rdd))\n",
    "print(rdd.collect()[1])"
   ]
  },
  {
   "cell_type": "code",
   "execution_count": 3,
   "metadata": {},
   "outputs": [],
   "source": [
    "# AWS-LINUX\n",
    "\n",
    "import findspark\n",
    "findspark.init(\"/opt/spark\")"
   ]
  },
  {
   "cell_type": "code",
   "execution_count": 4,
   "metadata": {},
   "outputs": [],
   "source": [
    "import pyspark\n",
    "from pyspark.sql import SparkSession"
   ]
  },
  {
   "cell_type": "code",
   "execution_count": 5,
   "metadata": {},
   "outputs": [
    {
     "data": {
      "text/html": [
       "\n",
       "            <div>\n",
       "                <p><b>SparkSession - in-memory</b></p>\n",
       "                \n",
       "        <div>\n",
       "            <p><b>SparkContext</b></p>\n",
       "\n",
       "            <p><a href=\"http://ip-172-31-43-117.ap-northeast-2.compute.internal:4041\">Spark UI</a></p>\n",
       "\n",
       "            <dl>\n",
       "              <dt>Version</dt>\n",
       "                <dd><code>v3.0.1</code></dd>\n",
       "              <dt>Master</dt>\n",
       "                <dd><code>local[8]</code></dd>\n",
       "              <dt>AppName</dt>\n",
       "                <dd><code>sparkedu</code></dd>\n",
       "            </dl>\n",
       "        </div>\n",
       "        \n",
       "            </div>\n",
       "        "
      ],
      "text/plain": [
       "<pyspark.sql.session.SparkSession at 0x7f3558095b70>"
      ]
     },
     "execution_count": 5,
     "metadata": {},
     "output_type": "execute_result"
    }
   ],
   "source": [
    "spark = SparkSession.builder.getOrCreate()\n",
    "spark"
   ]
  },
  {
   "cell_type": "code",
   "execution_count": 6,
   "metadata": {},
   "outputs": [
    {
     "name": "stdout",
     "output_type": "stream",
     "text": [
      "ParallelCollectionRDD[0] at readRDDFromFile at PythonRDD.scala:262\n",
      "<class 'pyspark.rdd.RDD'>\n",
      "[('Java', 20000), ('Python', 100000), ('Scala', 3000)]\n"
     ]
    }
   ],
   "source": [
    "dataList = [(\"Java\", 20000), (\"Python\", 100000), (\"Scala\", 3000)]\n",
    "rdd=spark.sparkContext.parallelize(dataList)\n",
    "print(rdd)\n",
    "print(type(rdd))\n",
    "print(rdd.collect())"
   ]
  },
  {
   "cell_type": "code",
   "execution_count": 7,
   "metadata": {},
   "outputs": [
    {
     "name": "stdout",
     "output_type": "stream",
     "text": [
      "3.0.1\n"
     ]
    }
   ],
   "source": [
    "print(spark.version)"
   ]
  },
  {
   "cell_type": "code",
   "execution_count": 3,
   "metadata": {},
   "outputs": [],
   "source": [
    "from pyspark.sql import SparkSession\n",
    "from pyspark.sql.functions import mean,col,split, col, regexp_extract, when, lit\n",
    "from pyspark.ml.feature import StringIndexer\n",
    "from pyspark.ml import Pipeline"
   ]
  },
  {
   "cell_type": "code",
   "execution_count": 4,
   "metadata": {},
   "outputs": [],
   "source": [
    "recipe_df = spark.read.csv(\"output/(수정)최종레시피1.csv\",header = 'True',inferSchema='True')"
   ]
  },
  {
   "cell_type": "code",
   "execution_count": 5,
   "metadata": {},
   "outputs": [],
   "source": [
    "passengers_count = recipe_df.count()"
   ]
  },
  {
   "cell_type": "code",
   "execution_count": 6,
   "metadata": {},
   "outputs": [
    {
     "name": "stdout",
     "output_type": "stream",
     "text": [
      "9895\n"
     ]
    }
   ],
   "source": [
    "print(passengers_count)"
   ]
  },
  {
   "cell_type": "code",
   "execution_count": 17,
   "metadata": {},
   "outputs": [
    {
     "name": "stdout",
     "output_type": "stream",
     "text": [
      "+----------------------------------+--------------------------+---------------------------------+--------------------------+--------------------------------+-----------------------------+-----+--------------------+----------+\n",
      "|                              name|                ingredient|                  ingredient_name|                 seasoning|                  seasoning_name|                        howto|views|                 img|recipe_num|\n",
      "+----------------------------------+--------------------------+---------------------------------+--------------------------+--------------------------------+-----------------------------+-----+--------------------+----------+\n",
      "|손쉽게 만드는 소불고기덮밥 레시...|  ['소불고기', '200g', ...|               소불고기 양파 대파| ['간장', '4스푼', '물o...|   간장 다진마늘 올리고당 참기름|['1. 양파와 대파는 미리 썰...|  587|https://recipe1.e...|   6947317|\n",
      "|   사과를 활용한 요리 / 프랑스 ...| ['계란', '1개', '설탕'...|계란 설탕 우유 생크림 찹쌀가루...|                        []|                            null|  ['1. 볼에 계란, 설탕, 우...|  198|https://recipe1.e...|   6947316|\n",
      "|  사과를 활용한 요리 / 사과 겉절이|['사과', '1개', '고춧가...| 사과 고춧가루 액젓 매실액 레몬즙|                        []|                            null|['1. 사과는 씻어 준비한다....|  173|https://recipe1.e...|   6947315|\n",
      "|              # 당면활용, 당면만두|   ['당면', '120g', '계...|당면 계란 간장 튀김가루 홍고추...|['간장', '1스푼', '식초...|간장 식초 물 레몬즙 고추가루 ...|['1. 끓는 물에 당면을 삶아...|  123|https://recipe1.e...|   6947314|\n",
      "| 보들한 무청이 더 맛있는 코다리...|['코다리', '3마리', '무...|코다리 무청 간장 청주 고춧가루...|                        []|                            null|['1. 코다리 3마리를 준비해...|  486|https://recipe1.e...|   6947313|\n",
      "+----------------------------------+--------------------------+---------------------------------+--------------------------+--------------------------------+-----------------------------+-----+--------------------+----------+\n",
      "only showing top 5 rows\n",
      "\n"
     ]
    }
   ],
   "source": [
    "recipe_df.show(5)"
   ]
  },
  {
   "cell_type": "code",
   "execution_count": 18,
   "metadata": {},
   "outputs": [
    {
     "name": "stdout",
     "output_type": "stream",
     "text": [
      "<class 'pyspark.sql.column.Column'>\n"
     ]
    }
   ],
   "source": [
    "print(type(recipe_df['howto'][2]))"
   ]
  },
  {
   "cell_type": "code",
   "execution_count": 19,
   "metadata": {},
   "outputs": [
    {
     "name": "stdout",
     "output_type": "stream",
     "text": [
      "root\n",
      " |-- name: string (nullable = true)\n",
      " |-- ingredient: string (nullable = true)\n",
      " |-- ingredient_name: string (nullable = true)\n",
      " |-- seasoning: string (nullable = true)\n",
      " |-- seasoning_name: string (nullable = true)\n",
      " |-- howto: string (nullable = true)\n",
      " |-- views: string (nullable = true)\n",
      " |-- img: string (nullable = true)\n",
      " |-- recipe_num: string (nullable = true)\n",
      "\n",
      "+-----------------------------------+-----------------------------+---------------------------------+---------------------------+-----------------------------------+------------------------------+-----+--------------------+----------+\n",
      "|                               name|                   ingredient|                  ingredient_name|                  seasoning|                     seasoning_name|                         howto|views|                 img|recipe_num|\n",
      "+-----------------------------------+-----------------------------+---------------------------------+---------------------------+-----------------------------------+------------------------------+-----+--------------------+----------+\n",
      "| 손쉽게 만드는 소불고기덮밥 레시...|     ['소불고기', '200g', ...|               소불고기 양파 대파|  ['간장', '4스푼', '물o...|      간장 다진마늘 올리고당 참기름| ['1. 양파와 대파는 미리 썰...|  587|https://recipe1.e...|   6947317|\n",
      "|    사과를 활용한 요리 / 프랑스 ...|    ['계란', '1개', '설탕'...|계란 설탕 우유 생크림 찹쌀가루...|                         []|                               null|   ['1. 볼에 계란, 설탕, 우...|  198|https://recipe1.e...|   6947316|\n",
      "|   사과를 활용한 요리 / 사과 겉절이|   ['사과', '1개', '고춧가...| 사과 고춧가루 액젓 매실액 레몬즙|                         []|                               null| ['1. 사과는 씻어 준비한다....|  173|https://recipe1.e...|   6947315|\n",
      "|               # 당면활용, 당면만두|      ['당면', '120g', '계...|당면 계란 간장 튀김가루 홍고추...| ['간장', '1스푼', '식초...|   간장 식초 물 레몬즙 고추가루 ...| ['1. 끓는 물에 당면을 삶아...|  123|https://recipe1.e...|   6947314|\n",
      "|  보들한 무청이 더 맛있는 코다리...|   ['코다리', '3마리', '무...|코다리 무청 간장 청주 고춧가루...|                         []|                               null| ['1. 코다리 3마리를 준비해...|  486|https://recipe1.e...|   6947313|\n",
      "|           # 볶음요리, 오징어굴볶음|   ['오징어', '2마리', '굴...|         오징어 굴 양파 대파 배추| ['간장', '2스푼', '고추...|  간장 고추가루 다진마늘 참기름 ...|['1. 오징어를 깨끗하게 씻어...|  190|https://recipe1.e...|   6947312|\n",
      "|   돼지 고기 수육(집밥, 김장김치...|   ['돼지고기', '삼겹', '7...|                         돼지고기|     ['물', '900ml', '집...|       물 집된장 후추 소주 월계수잎| ['1. 고기 덩어리는 표면을 ...|  645|https://recipe1.e...|   6947311|\n",
      "|     밑반찬 무쪼글이 오징어젓갈무침|   ['무쪼글이채', '1컵', '...|                             null|['고추가루', '1작은술', ...| 고추가루 다진대파 다진마늘 참기...|['1. 지난번에 담가두었던 무...|  388|https://recipe1.e...|   6947310|\n",
      "|           진한 국물맛 소고기 무국 |      ['소고기', '100g', '...|                   소고기 무 육수|['저염다시마간장', '1/2T...|                      후추 올리브유|  ['1. 길이로 잘라주세요', ...|  925|https://recipe1.e...|   6947309|\n",
      "| 남은굴은 아삭거리는 식감이 살아...|       ['쌀', '2+1/2컵', '...|                    쌀 물 일자 굴|['참치액', '간장', '청양...|참치액 간장 청양고추 통깨 파 참기름|  ['1. 밥을 씻어 불립니다',...|  167|https://recipe1.e...|   6947308|\n",
      "|          쉽고 간단하게 만든 깍두기|     ['천수', '무', '5개',...|천수 새우젓 고추가루 생강 마늘...|                         []|                               null| ['1. 천수무는 흐르는 물에\\...|  757|https://recipe1.e...|   6947307|\n",
      "|           아삭한 오이무침 만들기, |    ['오이', '5개', '양파'...|               오이 양파 굵은소금|  ['고추장', '2.5큰술', ...|  고추장 고추가루 설탕 간장 새우...| ['1. 간단하게 물에 행군 뒤...|  212|https://recipe1.e...|   6947306|\n",
      "|            백파더어묵탕 5분이면 돼|     ['어묵', '3장', '물',...| 어묵 물 국물용멸치 양파 대파 ...|                         []|                               null|  ['1.  먼저 냄비에 멸치 머...|  599|https://recipe1.e...|   6947305|\n",
      "|  찬바람이 싸늘하게 두 뺨을 스치...|      ['어묵', '300g', '무...|  어묵 무 게 대파 다시마 양파 ...|                         []|                               null|    ['1. 무는 1cm 간격으로 ...|  184|https://recipe1.e...|   6947304|\n",
      "|      매콤하고 깔끔한맛 굴전 만들기|      ['생굴', '154g', '청...| 생굴 청고추 쪽파 맛술 참기름 ...|                         []|                               null| ['1. 생굴은 소금 넣어 살살...|  637|https://recipe1.e...|   6947303|\n",
      "|  초간단 양파무장아찌 : 새콤달콤...|     ['양파', '2개', '무',...|  양파 무 물 간장 식초 황설탕 ...|                         []|                               null|['1. 장아찌를 담을 유리병을...|  309|https://recipe1.e...|   6947302|\n",
      "|   간장떡볶이 레시피 ~ 초간단 간...|   ['떡국떡', '1공기', '완...|떡국떡 완두콩 진간장 멸치육수 ...|                         []|                               null|   ['1. 떡(한 공기 정도)을 ...|  378|https://recipe1.e...|   6947301|\n",
      "|    세상에서 가장 쉬운 수육 : 단...|['수육용', '돼지앞다리살',...|수육용 집된장 소주 마늘 월계수...|                         []|                               null| ['1. 고기가 충분히 잠길 만...|  467|https://recipe1.e...|   6947300|\n",
      "| 간식으로 먹던 쥐포로 만든 쥐포볶음|             ['쥐포', '10장']|                             쥐포|['양념재료]', '식용유', ...|  식용유 고춧가루 고추장 미림 간...|['1. 쥐포가 대형 사이즈라면...|  171|https://recipe1.e...|   6947299|\n",
      "|크리스마스 핑거푸드/파인애플리스...| ['파인애플링게', '석류', ...|석류 맛살 슬라이스햄 견과류 어...|                         []|                               null|  ['1. 재료 준비해 주세요~'...|  259|https://recipe1.e...|   6947298|\n",
      "+-----------------------------------+-----------------------------+---------------------------------+---------------------------+-----------------------------------+------------------------------+-----+--------------------+----------+\n",
      "only showing top 20 rows\n",
      "\n"
     ]
    }
   ],
   "source": [
    "recipe_df.printSchema()\n",
    "recipe_df.show()"
   ]
  },
  {
   "cell_type": "code",
   "execution_count": 8,
   "metadata": {},
   "outputs": [
    {
     "name": "stdout",
     "output_type": "stream",
     "text": [
      "<class 'pyspark.sql.types.Row'>\n",
      "Row(ingredient=\"['소불고기', '200g', '양파', '1/2개', '대파', '3개']\")\n"
     ]
    }
   ],
   "source": [
    "data = recipe_df.select('ingredient').collect()\n",
    "print(type(data[0]))\n",
    "print(data[0])"
   ]
  },
  {
   "cell_type": "code",
   "execution_count": 48,
   "metadata": {},
   "outputs": [
    {
     "name": "stdout",
     "output_type": "stream",
     "text": [
      "Row(ingredient_name='소불고기 양파 대파')\n"
     ]
    },
    {
     "ename": "AttributeError",
     "evalue": "lower",
     "output_type": "error",
     "traceback": [
      "\u001b[0;31m---------------------------------------------------------------------------\u001b[0m",
      "\u001b[0;31mValueError\u001b[0m                                Traceback (most recent call last)",
      "\u001b[0;32m~/.conda/envs/awsvenv/lib/python3.6/site-packages/pyspark/sql/types.py\u001b[0m in \u001b[0;36m__getattr__\u001b[0;34m(self, item)\u001b[0m\n\u001b[1;32m   1594\u001b[0m             \u001b[0;31m# but this will not be used in normal cases\u001b[0m\u001b[0;34m\u001b[0m\u001b[0;34m\u001b[0m\u001b[0;34m\u001b[0m\u001b[0m\n\u001b[0;32m-> 1595\u001b[0;31m             \u001b[0midx\u001b[0m \u001b[0;34m=\u001b[0m \u001b[0mself\u001b[0m\u001b[0;34m.\u001b[0m\u001b[0m__fields__\u001b[0m\u001b[0;34m.\u001b[0m\u001b[0mindex\u001b[0m\u001b[0;34m(\u001b[0m\u001b[0mitem\u001b[0m\u001b[0;34m)\u001b[0m\u001b[0;34m\u001b[0m\u001b[0;34m\u001b[0m\u001b[0m\n\u001b[0m\u001b[1;32m   1596\u001b[0m             \u001b[0;32mreturn\u001b[0m \u001b[0mself\u001b[0m\u001b[0;34m[\u001b[0m\u001b[0midx\u001b[0m\u001b[0;34m]\u001b[0m\u001b[0;34m\u001b[0m\u001b[0;34m\u001b[0m\u001b[0m\n",
      "\u001b[0;31mValueError\u001b[0m: 'lower' is not in list",
      "\nDuring handling of the above exception, another exception occurred:\n",
      "\u001b[0;31mAttributeError\u001b[0m                            Traceback (most recent call last)",
      "\u001b[0;32m<ipython-input-48-d3f0b4b9ac0b>\u001b[0m in \u001b[0;36m<module>\u001b[0;34m\u001b[0m\n\u001b[1;32m     11\u001b[0m \u001b[0mtfidf\u001b[0m \u001b[0;34m=\u001b[0m \u001b[0mTfidfVectorizer\u001b[0m\u001b[0;34m(\u001b[0m\u001b[0;34m)\u001b[0m\u001b[0;34m\u001b[0m\u001b[0;34m\u001b[0m\u001b[0m\n\u001b[1;32m     12\u001b[0m \u001b[0;34m\u001b[0m\u001b[0m\n\u001b[0;32m---> 13\u001b[0;31m \u001b[0mtfidf_matrix\u001b[0m \u001b[0;34m=\u001b[0m \u001b[0mtfidf\u001b[0m\u001b[0;34m.\u001b[0m\u001b[0mfit_transform\u001b[0m\u001b[0;34m(\u001b[0m\u001b[0mdata\u001b[0m\u001b[0;34m)\u001b[0m\u001b[0;34m\u001b[0m\u001b[0;34m\u001b[0m\u001b[0m\n\u001b[0m\u001b[1;32m     14\u001b[0m \u001b[0;34m\u001b[0m\u001b[0m\n\u001b[1;32m     15\u001b[0m \u001b[0mprint\u001b[0m\u001b[0;34m(\u001b[0m\u001b[0mtfidf_matrix\u001b[0m\u001b[0;34m.\u001b[0m\u001b[0mshape\u001b[0m\u001b[0;34m)\u001b[0m\u001b[0;34m\u001b[0m\u001b[0;34m\u001b[0m\u001b[0m\n",
      "\u001b[0;32m~/.conda/envs/awsvenv/lib/python3.6/site-packages/sklearn/feature_extraction/text.py\u001b[0m in \u001b[0;36mfit_transform\u001b[0;34m(self, raw_documents, y)\u001b[0m\n\u001b[1;32m   1839\u001b[0m         \"\"\"\n\u001b[1;32m   1840\u001b[0m         \u001b[0mself\u001b[0m\u001b[0;34m.\u001b[0m\u001b[0m_check_params\u001b[0m\u001b[0;34m(\u001b[0m\u001b[0;34m)\u001b[0m\u001b[0;34m\u001b[0m\u001b[0;34m\u001b[0m\u001b[0m\n\u001b[0;32m-> 1841\u001b[0;31m         \u001b[0mX\u001b[0m \u001b[0;34m=\u001b[0m \u001b[0msuper\u001b[0m\u001b[0;34m(\u001b[0m\u001b[0;34m)\u001b[0m\u001b[0;34m.\u001b[0m\u001b[0mfit_transform\u001b[0m\u001b[0;34m(\u001b[0m\u001b[0mraw_documents\u001b[0m\u001b[0;34m)\u001b[0m\u001b[0;34m\u001b[0m\u001b[0;34m\u001b[0m\u001b[0m\n\u001b[0m\u001b[1;32m   1842\u001b[0m         \u001b[0mself\u001b[0m\u001b[0;34m.\u001b[0m\u001b[0m_tfidf\u001b[0m\u001b[0;34m.\u001b[0m\u001b[0mfit\u001b[0m\u001b[0;34m(\u001b[0m\u001b[0mX\u001b[0m\u001b[0;34m)\u001b[0m\u001b[0;34m\u001b[0m\u001b[0;34m\u001b[0m\u001b[0m\n\u001b[1;32m   1843\u001b[0m         \u001b[0;31m# X is already a transformed view of raw_documents so\u001b[0m\u001b[0;34m\u001b[0m\u001b[0;34m\u001b[0m\u001b[0;34m\u001b[0m\u001b[0m\n",
      "\u001b[0;32m~/.conda/envs/awsvenv/lib/python3.6/site-packages/sklearn/feature_extraction/text.py\u001b[0m in \u001b[0;36mfit_transform\u001b[0;34m(self, raw_documents, y)\u001b[0m\n\u001b[1;32m   1197\u001b[0m \u001b[0;34m\u001b[0m\u001b[0m\n\u001b[1;32m   1198\u001b[0m         vocabulary, X = self._count_vocab(raw_documents,\n\u001b[0;32m-> 1199\u001b[0;31m                                           self.fixed_vocabulary_)\n\u001b[0m\u001b[1;32m   1200\u001b[0m \u001b[0;34m\u001b[0m\u001b[0m\n\u001b[1;32m   1201\u001b[0m         \u001b[0;32mif\u001b[0m \u001b[0mself\u001b[0m\u001b[0;34m.\u001b[0m\u001b[0mbinary\u001b[0m\u001b[0;34m:\u001b[0m\u001b[0;34m\u001b[0m\u001b[0;34m\u001b[0m\u001b[0m\n",
      "\u001b[0;32m~/.conda/envs/awsvenv/lib/python3.6/site-packages/sklearn/feature_extraction/text.py\u001b[0m in \u001b[0;36m_count_vocab\u001b[0;34m(self, raw_documents, fixed_vocab)\u001b[0m\n\u001b[1;32m   1108\u001b[0m         \u001b[0;32mfor\u001b[0m \u001b[0mdoc\u001b[0m \u001b[0;32min\u001b[0m \u001b[0mraw_documents\u001b[0m\u001b[0;34m:\u001b[0m\u001b[0;34m\u001b[0m\u001b[0;34m\u001b[0m\u001b[0m\n\u001b[1;32m   1109\u001b[0m             \u001b[0mfeature_counter\u001b[0m \u001b[0;34m=\u001b[0m \u001b[0;34m{\u001b[0m\u001b[0;34m}\u001b[0m\u001b[0;34m\u001b[0m\u001b[0;34m\u001b[0m\u001b[0m\n\u001b[0;32m-> 1110\u001b[0;31m             \u001b[0;32mfor\u001b[0m \u001b[0mfeature\u001b[0m \u001b[0;32min\u001b[0m \u001b[0manalyze\u001b[0m\u001b[0;34m(\u001b[0m\u001b[0mdoc\u001b[0m\u001b[0;34m)\u001b[0m\u001b[0;34m:\u001b[0m\u001b[0;34m\u001b[0m\u001b[0;34m\u001b[0m\u001b[0m\n\u001b[0m\u001b[1;32m   1111\u001b[0m                 \u001b[0;32mtry\u001b[0m\u001b[0;34m:\u001b[0m\u001b[0;34m\u001b[0m\u001b[0;34m\u001b[0m\u001b[0m\n\u001b[1;32m   1112\u001b[0m                     \u001b[0mfeature_idx\u001b[0m \u001b[0;34m=\u001b[0m \u001b[0mvocabulary\u001b[0m\u001b[0;34m[\u001b[0m\u001b[0mfeature\u001b[0m\u001b[0;34m]\u001b[0m\u001b[0;34m\u001b[0m\u001b[0;34m\u001b[0m\u001b[0m\n",
      "\u001b[0;32m~/.conda/envs/awsvenv/lib/python3.6/site-packages/sklearn/feature_extraction/text.py\u001b[0m in \u001b[0;36m_analyze\u001b[0;34m(doc, analyzer, tokenizer, ngrams, preprocessor, decoder, stop_words)\u001b[0m\n\u001b[1;32m    102\u001b[0m     \u001b[0;32melse\u001b[0m\u001b[0;34m:\u001b[0m\u001b[0;34m\u001b[0m\u001b[0;34m\u001b[0m\u001b[0m\n\u001b[1;32m    103\u001b[0m         \u001b[0;32mif\u001b[0m \u001b[0mpreprocessor\u001b[0m \u001b[0;32mis\u001b[0m \u001b[0;32mnot\u001b[0m \u001b[0;32mNone\u001b[0m\u001b[0;34m:\u001b[0m\u001b[0;34m\u001b[0m\u001b[0;34m\u001b[0m\u001b[0m\n\u001b[0;32m--> 104\u001b[0;31m             \u001b[0mdoc\u001b[0m \u001b[0;34m=\u001b[0m \u001b[0mpreprocessor\u001b[0m\u001b[0;34m(\u001b[0m\u001b[0mdoc\u001b[0m\u001b[0;34m)\u001b[0m\u001b[0;34m\u001b[0m\u001b[0;34m\u001b[0m\u001b[0m\n\u001b[0m\u001b[1;32m    105\u001b[0m         \u001b[0;32mif\u001b[0m \u001b[0mtokenizer\u001b[0m \u001b[0;32mis\u001b[0m \u001b[0;32mnot\u001b[0m \u001b[0;32mNone\u001b[0m\u001b[0;34m:\u001b[0m\u001b[0;34m\u001b[0m\u001b[0;34m\u001b[0m\u001b[0m\n\u001b[1;32m    106\u001b[0m             \u001b[0mdoc\u001b[0m \u001b[0;34m=\u001b[0m \u001b[0mtokenizer\u001b[0m\u001b[0;34m(\u001b[0m\u001b[0mdoc\u001b[0m\u001b[0;34m)\u001b[0m\u001b[0;34m\u001b[0m\u001b[0;34m\u001b[0m\u001b[0m\n",
      "\u001b[0;32m~/.conda/envs/awsvenv/lib/python3.6/site-packages/sklearn/feature_extraction/text.py\u001b[0m in \u001b[0;36m_preprocess\u001b[0;34m(doc, accent_function, lower)\u001b[0m\n\u001b[1;32m     67\u001b[0m     \"\"\"\n\u001b[1;32m     68\u001b[0m     \u001b[0;32mif\u001b[0m \u001b[0mlower\u001b[0m\u001b[0;34m:\u001b[0m\u001b[0;34m\u001b[0m\u001b[0;34m\u001b[0m\u001b[0m\n\u001b[0;32m---> 69\u001b[0;31m         \u001b[0mdoc\u001b[0m \u001b[0;34m=\u001b[0m \u001b[0mdoc\u001b[0m\u001b[0;34m.\u001b[0m\u001b[0mlower\u001b[0m\u001b[0;34m(\u001b[0m\u001b[0;34m)\u001b[0m\u001b[0;34m\u001b[0m\u001b[0;34m\u001b[0m\u001b[0m\n\u001b[0m\u001b[1;32m     70\u001b[0m     \u001b[0;32mif\u001b[0m \u001b[0maccent_function\u001b[0m \u001b[0;32mis\u001b[0m \u001b[0;32mnot\u001b[0m \u001b[0;32mNone\u001b[0m\u001b[0;34m:\u001b[0m\u001b[0;34m\u001b[0m\u001b[0;34m\u001b[0m\u001b[0m\n\u001b[1;32m     71\u001b[0m         \u001b[0mdoc\u001b[0m \u001b[0;34m=\u001b[0m \u001b[0maccent_function\u001b[0m\u001b[0;34m(\u001b[0m\u001b[0mdoc\u001b[0m\u001b[0;34m)\u001b[0m\u001b[0;34m\u001b[0m\u001b[0;34m\u001b[0m\u001b[0m\n",
      "\u001b[0;32m~/.conda/envs/awsvenv/lib/python3.6/site-packages/pyspark/sql/types.py\u001b[0m in \u001b[0;36m__getattr__\u001b[0;34m(self, item)\u001b[0m\n\u001b[1;32m   1598\u001b[0m             \u001b[0;32mraise\u001b[0m \u001b[0mAttributeError\u001b[0m\u001b[0;34m(\u001b[0m\u001b[0mitem\u001b[0m\u001b[0;34m)\u001b[0m\u001b[0;34m\u001b[0m\u001b[0;34m\u001b[0m\u001b[0m\n\u001b[1;32m   1599\u001b[0m         \u001b[0;32mexcept\u001b[0m \u001b[0mValueError\u001b[0m\u001b[0;34m:\u001b[0m\u001b[0;34m\u001b[0m\u001b[0;34m\u001b[0m\u001b[0m\n\u001b[0;32m-> 1600\u001b[0;31m             \u001b[0;32mraise\u001b[0m \u001b[0mAttributeError\u001b[0m\u001b[0;34m(\u001b[0m\u001b[0mitem\u001b[0m\u001b[0;34m)\u001b[0m\u001b[0;34m\u001b[0m\u001b[0;34m\u001b[0m\u001b[0m\n\u001b[0m\u001b[1;32m   1601\u001b[0m \u001b[0;34m\u001b[0m\u001b[0m\n\u001b[1;32m   1602\u001b[0m     \u001b[0;32mdef\u001b[0m \u001b[0m__setattr__\u001b[0m\u001b[0;34m(\u001b[0m\u001b[0mself\u001b[0m\u001b[0;34m,\u001b[0m \u001b[0mkey\u001b[0m\u001b[0;34m,\u001b[0m \u001b[0mvalue\u001b[0m\u001b[0;34m)\u001b[0m\u001b[0;34m:\u001b[0m\u001b[0;34m\u001b[0m\u001b[0;34m\u001b[0m\u001b[0m\n",
      "\u001b[0;31mAttributeError\u001b[0m: lower"
     ]
    }
   ],
   "source": [
    "import pandas as pd\n",
    "from sklearn.feature_extraction.text import TfidfVectorizer\n",
    "from sklearn.metrics.pairwise import linear_kernel\n",
    "\n",
    "# data = pd.read_csv('../smart_refrigerator/output/test.csv', low_memory=False)\n",
    "data2 = pd.read_csv('../smart_refrigerator/output/냉장고재료test용.csv', low_memory=False)\n",
    "data = recipe_df.select('ingredient_name').collect()\n",
    "print(data[0])\n",
    "# recipe_df.select(col('ingredient_name')) = recipe_df.select(col('ingredient_name')).fillna('')\n",
    "\n",
    "tfidf = TfidfVectorizer()\n",
    "\n",
    "tfidf_matrix = tfidf.fit_transform(data)\n",
    "\n",
    "print(tfidf_matrix.shape)\n",
    "\n",
    "cosine_sim = linear_kernel(tfidf_matrix, tfidf_matrix)\n",
    "\n",
    "indices = pd.Series(recipe_df.index, index=recipe_df['name'])\n",
    "print(indices.head())\n",
    "\n",
    "def get_recommendations(food, cosine_sim=cosine_sim):\n",
    "    idx = indices[food]\n",
    "\n",
    "    sim_scores = list(enumerate(cosine_sim[idx]))\n",
    "\n",
    "    sim_scores = sorted(sim_scores, key=lambda x: x[1], reverse=True)\n",
    "\n",
    "    sim_scores = sim_scores[1:11]\n",
    "\n",
    "    food_indices = [i[0] for i in sim_scores]\n",
    "\n",
    "    return recipe_df['name'].iloc[food_indices]\n",
    "\n",
    "get_recommendations('소고기 덮밥~*')"
   ]
  }
 ],
 "metadata": {
  "kernelspec": {
   "display_name": "pydatavenv",
   "language": "python",
   "name": "pydatavenv"
  },
  "language_info": {
   "codemirror_mode": {
    "name": "ipython",
    "version": 3
   },
   "file_extension": ".py",
   "mimetype": "text/x-python",
   "name": "python",
   "nbconvert_exporter": "python",
   "pygments_lexer": "ipython3",
   "version": "3.7.9"
  }
 },
 "nbformat": 4,
 "nbformat_minor": 4
}
